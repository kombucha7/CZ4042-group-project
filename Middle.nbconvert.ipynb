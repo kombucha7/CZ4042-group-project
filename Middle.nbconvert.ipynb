{
 "cells": [
  {
   "cell_type": "code",
   "execution_count": 1,
   "id": "6e12074a",
   "metadata": {
    "execution": {
     "iopub.execute_input": "2023-11-09T09:53:42.984520Z",
     "iopub.status.busy": "2023-11-09T09:53:42.984293Z",
     "iopub.status.idle": "2023-11-09T09:53:49.737021Z",
     "shell.execute_reply": "2023-11-09T09:53:49.736471Z"
    }
   },
   "outputs": [
    {
     "name": "stderr",
     "output_type": "stream",
     "text": [
      "Fontconfig warning: ignoring UTF-8: not a valid region tag\n"
     ]
    }
   ],
   "source": [
    "import torch\n",
    "import torch.nn as nn\n",
    "import torchvision\n",
    "from torchvision import models\n",
    "from torchvision import datasets\n",
    "from torchvision import transforms\n",
    "from torchmetrics.classification import MulticlassAccuracy\n",
    "import numpy as np\n",
    "from collections import OrderedDict\n",
    "import matplotlib.pyplot as plt\n",
    "import datetime"
   ]
  },
  {
   "cell_type": "code",
   "execution_count": 2,
   "id": "722661ee",
   "metadata": {
    "execution": {
     "iopub.execute_input": "2023-11-09T09:53:49.740013Z",
     "iopub.status.busy": "2023-11-09T09:53:49.739713Z",
     "iopub.status.idle": "2023-11-09T09:53:53.744619Z",
     "shell.execute_reply": "2023-11-09T09:53:53.744020Z"
    }
   },
   "outputs": [
    {
     "name": "stdout",
     "output_type": "stream",
     "text": [
      "cuda:0\n"
     ]
    }
   ],
   "source": [
    "no_epochs = 50\n",
    "learning_rate = 0.0001\n",
    "batch_size = 128\n",
    "\n",
    "device = torch.device(\"cuda:0\" if torch.cuda.is_available() else \"cpu\")\n",
    "print(device)\n",
    "\n",
    "acc_function = MulticlassAccuracy(num_classes=102, average='micro').to(device)\n",
    "loss_fn = nn.CrossEntropyLoss()\n",
    "\n",
    "SEED = 42\n",
    "np.random.seed(SEED)\n",
    "generator = torch.Generator().manual_seed(SEED)\n",
    "\n",
    "PATH = './model.pth'"
   ]
  },
  {
   "cell_type": "code",
   "execution_count": 3,
   "id": "2bae97fb",
   "metadata": {
    "execution": {
     "iopub.execute_input": "2023-11-09T09:53:53.747568Z",
     "iopub.status.busy": "2023-11-09T09:53:53.747220Z",
     "iopub.status.idle": "2023-11-09T09:53:53.950494Z",
     "shell.execute_reply": "2023-11-09T09:53:53.949951Z"
    }
   },
   "outputs": [],
   "source": [
    "# Data Augmentation\n",
    "train_transforms = transforms.Compose([\n",
    "    transforms.RandomRotation(30),\n",
    "    transforms.RandomResizedCrop(224),\n",
    "    transforms.RandomHorizontalFlip(),\n",
    "    transforms.ToTensor(),\n",
    "    transforms.Normalize([0.485, 0.456, 0.406], [0.229, 0.224, 0.225])\n",
    "])\n",
    "\n",
    "# Assuming you want to keep the default transformations for testing/validation:\n",
    "default_transforms = transforms.Compose([\n",
    "    models.VGG16_BN_Weights.IMAGENET1K_V1.transforms()\n",
    "])\n",
    "\n",
    "flowers_train = datasets.Flowers102(root='./data', split='train', download=True, transform=train_transforms)\n",
    "flowers_test = datasets.Flowers102(root='./data', split='test', download=True, transform=default_transforms)\n",
    "flowers_val = datasets.Flowers102(root='./data', split='val', download=True, transform=default_transforms)\n"
   ]
  },
  {
   "cell_type": "code",
   "execution_count": 4,
   "id": "673df4cc",
   "metadata": {
    "execution": {
     "iopub.execute_input": "2023-11-09T09:53:53.953298Z",
     "iopub.status.busy": "2023-11-09T09:53:53.952943Z",
     "iopub.status.idle": "2023-11-09T09:53:53.956492Z",
     "shell.execute_reply": "2023-11-09T09:53:53.955857Z"
    }
   },
   "outputs": [],
   "source": [
    "def get_data_loader(batch_size):\n",
    "    train_loader = torch.utils.data.DataLoader(flowers_train, batch_size=batch_size, shuffle=True, generator=generator)\n",
    "    test_loader = torch.utils.data.DataLoader(flowers_test, batch_size=batch_size, shuffle=True, generator=generator)\n",
    "    val_loader = torch.utils.data.DataLoader(flowers_val, batch_size=batch_size, shuffle=True, generator=generator)\n",
    "    return train_loader, test_loader, val_loader"
   ]
  },
  {
   "cell_type": "code",
   "execution_count": 5,
   "id": "3ba9fdde",
   "metadata": {
    "execution": {
     "iopub.execute_input": "2023-11-09T09:53:53.958690Z",
     "iopub.status.busy": "2023-11-09T09:53:53.958494Z",
     "iopub.status.idle": "2023-11-09T09:53:53.962738Z",
     "shell.execute_reply": "2023-11-09T09:53:53.962311Z"
    }
   },
   "outputs": [],
   "source": [
    "# Early stopping based on accuracy\n",
    "class AccuracyEarlyStopper:\n",
    "    def __init__(self, patience=5, min_delta=0.01):\n",
    "        self.patience = patience\n",
    "        self.min_delta = min_delta\n",
    "        self.counter = 0\n",
    "        self.max_validation_accuracy = 0\n",
    "\n",
    "    def early_stop(self, validation_accuracy):\n",
    "        if validation_accuracy > (self.max_validation_accuracy + self.min_delta):\n",
    "            self.max_validation_accuracy = validation_accuracy\n",
    "            self.counter = 0\n",
    "        else:\n",
    "            self.counter += 1\n",
    "            if self.counter >= self.patience:\n",
    "                return True\n",
    "        return False"
   ]
  },
  {
   "cell_type": "code",
   "execution_count": 6,
   "id": "385d2ac4",
   "metadata": {
    "execution": {
     "iopub.execute_input": "2023-11-09T09:53:53.964763Z",
     "iopub.status.busy": "2023-11-09T09:53:53.964607Z",
     "iopub.status.idle": "2023-11-09T09:53:53.972011Z",
     "shell.execute_reply": "2023-11-09T09:53:53.971578Z"
    }
   },
   "outputs": [],
   "source": [
    "def train(model, optimizer, dataloader, loss_fn=loss_fn):\n",
    "    running_loss_value = 0\n",
    "    for images, labels in dataloader:\n",
    "        optimizer.zero_grad()\n",
    "        images = images.to(device)\n",
    "        labels = labels.to(device)\n",
    "        outputs = model(images)\n",
    "        loss = loss_fn(outputs, labels)\n",
    "        running_loss_value += loss.item()\n",
    "        loss.backward()\n",
    "        optimizer.step()\n",
    "    return running_loss_value / len(dataloader)\n",
    "\n",
    "def test_eval(model, dataloader, loss_fn=loss_fn):\n",
    "    running_loss_value = 0\n",
    "    running_acc_value = 0\n",
    "    with torch.no_grad():\n",
    "        for images, labels in dataloader:\n",
    "            images = images.to(device)\n",
    "            labels = labels.to(device)\n",
    "            outputs = model(images)\n",
    "            loss = loss_fn(outputs, labels)\n",
    "            acc = acc_function(outputs, labels)\n",
    "            running_loss_value += loss.item()\n",
    "            running_acc_value += acc.item()\n",
    "    running_acc_value /= len(dataloader)\n",
    "    running_loss_value /= len(dataloader)\n",
    "    return running_acc_value*100, running_loss_value\n",
    "\n",
    "def train_eval_test(model, train_dataloader, val_dataloader, test_dataloader, no_epochs=10):\n",
    "    es = AccuracyEarlyStopper()\n",
    "    optimizer = torch.optim.Adam(model.parameters(), lr=learning_rate)\n",
    "    train_loss_arr, train_acc_arr, eval_loss_arr, eval_acc_arr, train_time = [], [], [], [], []\n",
    "    for i in range(no_epochs):\n",
    "        start = datetime.datetime.now()\n",
    "        train_loss = train(model, optimizer, train_dataloader)\n",
    "        end = datetime.datetime.now()\n",
    "        eval_acc, eval_loss = test_eval(model, val_dataloader)\n",
    "        time_taken = (end-start).total_seconds()\n",
    "        print(f'Epoch {i+1} Train Loss: {train_loss:>8f}, Eval Accuracy: {eval_acc:>0.2f}%, Eval Loss: {eval_loss:>8f}, Train Time: {time_taken:>0.2f}s')\n",
    "        train_loss_arr.append(train_loss)\n",
    "        eval_loss_arr.append(eval_loss)\n",
    "        eval_acc_arr.append(eval_acc)\n",
    "        train_time.append(time_taken)\n",
    "        if es.early_stop(eval_acc):\n",
    "            print('Early stopping activated')\n",
    "            break\n",
    "    test_acc, test_loss = test_eval(model, test_dataloader)\n",
    "    print(f\"Test Accuracy: {test_acc}, Test Loss: {test_loss}\")\n",
    "    return train_loss_arr, train_acc_arr, eval_loss_arr, eval_acc_arr, test_acc, test_loss, train_time"
   ]
  },
  {
   "cell_type": "code",
   "execution_count": 7,
   "id": "942779d8",
   "metadata": {
    "execution": {
     "iopub.execute_input": "2023-11-09T09:53:53.974046Z",
     "iopub.status.busy": "2023-11-09T09:53:53.973844Z",
     "iopub.status.idle": "2023-11-09T09:53:53.983676Z",
     "shell.execute_reply": "2023-11-09T09:53:53.983253Z"
    }
   },
   "outputs": [],
   "source": [
    "class ModifiedResNet(nn.Module):\n",
    "    def __init__(self, num_classes=102):\n",
    "        super(ModifiedResNet, self).__init__()\n",
    "        self.resnet = models.resnet34(weights=models.ResNet34_Weights.DEFAULT)\n",
    "                        \n",
    "        new_last_layer_1 = nn.Sequential(OrderedDict([\n",
    "            ('conv1', nn.Conv2d(256, 512, kernel_size=(3, 3), stride=(1, 1), bias=False)),\n",
    "            ('bn1', nn.BatchNorm2d(512, eps=1e-05, momentum=0.1, affine=True, track_running_stats=True)),\n",
    "            ('relu1', nn.ReLU(inplace=True)),\n",
    "            ('conv2', nn.Conv2d(512, 512, kernel_size=(3, 3), stride=(1, 1), padding=(1,1), bias=False)),\n",
    "            ('bn2', nn.BatchNorm2d(512, eps=1e-05, momentum=0.1, affine=True, track_running_stats=True)),\n",
    "            ('conv3', nn.Conv2d(512, 2048, kernel_size=(1, 1), stride=(1, 1), bias=False)),\n",
    "            ('bn3', nn.BatchNorm2d(2048, eps=1e-05, momentum=0.1, affine=True, track_running_stats=True)),\n",
    "            ('relu2', nn.ReLU(inplace=True)),\n",
    "            ('downsample', nn.Sequential(OrderedDict([\n",
    "                ('0', nn.Conv2d(2048, 2048, kernel_size=(1, 1), stride=(1, 1), bias=False)),\n",
    "                ('1', nn.BatchNorm2d(2048, eps=1e-05, momentum=0.1, affine=True, track_running_stats=True))\n",
    "            ])))\n",
    "        ]))\n",
    "        \n",
    "        new_last_layer_2 = nn.Sequential(OrderedDict([\n",
    "            ('conv1', nn.Conv2d(2048, 512, kernel_size=(1, 1), stride=(1, 1), bias=False)),\n",
    "            ('bn1', nn.BatchNorm2d(512, eps=1e-05, momentum=0.1, affine=True, track_running_stats=True)),\n",
    "            ('conv2', nn.Conv2d(512, 512, kernel_size=(3, 3), stride=(1, 1), padding=(1, 1), bias=False)),\n",
    "            ('bn2', nn.BatchNorm2d(512, eps=1e-05, momentum=0.1, affine=True, track_running_stats=True)),\n",
    "            ('conv3', nn.Conv2d(512, 2048, kernel_size=(1, 1), stride=(1, 1), bias=False)),\n",
    "            ('bn3', nn.BatchNorm2d(2048, eps=1e-05, momentum=0.1, affine=True, track_running_stats=True)),\n",
    "            ('relu', nn.ReLU(inplace=True))\n",
    "        ]))\n",
    "        \n",
    "        new_last_layer_3 = nn.Sequential(OrderedDict([\n",
    "            ('conv1', nn.Conv2d(2048, 512, kernel_size=(1, 1), stride=(1, 1), bias=False)),\n",
    "            ('bn1', nn.BatchNorm2d(512, eps=1e-05, momentum=0.1, affine=True, track_running_stats=True)),\n",
    "            ('conv2', nn.Conv2d(512, 512, kernel_size=(3, 3), stride=(1, 1), padding=(1, 1), bias=False)),\n",
    "            ('bn2', nn.BatchNorm2d(512, eps=1e-05, momentum=0.1, affine=True, track_running_stats=True)),\n",
    "            ('conv3', nn.Conv2d(512, 2048, kernel_size=(1, 1), stride=(1, 1), bias=False)),\n",
    "            ('bn3', nn.BatchNorm2d(2048, eps=1e-05, momentum=0.1, affine=True, track_running_stats=True)),\n",
    "            ('relu', nn.ReLU(inplace=True))\n",
    "        ]))\n",
    "        \n",
    "        new_last_layer = nn.Sequential(OrderedDict([\n",
    "            ('1', new_last_layer_1),\n",
    "            ('2', new_last_layer_2),\n",
    "            ('3', new_last_layer_3)\n",
    "        ]))\n",
    "        self.resnet.layer4 = new_last_layer\n",
    "        self.resnet.avgpool = nn.AdaptiveAvgPool2d(output_size=(1, 1))\n",
    "        self.resnet.fc = nn.Linear(2048, num_classes, bias=True)\n",
    "        \n",
    "    def forward(self, x):\n",
    "        return self.resnet(x)\n",
    "    "
   ]
  },
  {
   "cell_type": "code",
   "execution_count": 8,
   "id": "9c8a9c2a",
   "metadata": {
    "execution": {
     "iopub.execute_input": "2023-11-09T09:53:53.985766Z",
     "iopub.status.busy": "2023-11-09T09:53:53.985575Z",
     "iopub.status.idle": "2023-11-09T09:53:53.989016Z",
     "shell.execute_reply": "2023-11-09T09:53:53.988588Z"
    }
   },
   "outputs": [],
   "source": [
    "train_data_loader, test_data_loader, val_data_loader = get_data_loader(batch_size)"
   ]
  },
  {
   "cell_type": "code",
   "execution_count": 9,
   "id": "9c96e29d",
   "metadata": {
    "execution": {
     "iopub.execute_input": "2023-11-09T09:53:53.990958Z",
     "iopub.status.busy": "2023-11-09T09:53:53.990805Z",
     "iopub.status.idle": "2023-11-09T10:03:05.998117Z",
     "shell.execute_reply": "2023-11-09T10:03:05.997264Z"
    }
   },
   "outputs": [
    {
     "name": "stdout",
     "output_type": "stream",
     "text": [
      "Epoch 1 Train Loss: 4.370101, Eval Accuracy: 31.16%, Eval Loss: 3.684789, Train Time: 32.95s\n",
      "Epoch 2 Train Loss: 3.462003, Eval Accuracy: 46.08%, Eval Loss: 2.992656, Train Time: 9.67s\n",
      "Epoch 3 Train Loss: 2.843658, Eval Accuracy: 57.75%, Eval Loss: 2.474466, Train Time: 9.94s\n",
      "Epoch 4 Train Loss: 2.327082, Eval Accuracy: 66.18%, Eval Loss: 2.047753, Train Time: 9.79s\n",
      "Epoch 5 Train Loss: 1.964698, Eval Accuracy: 74.04%, Eval Loss: 1.735801, Train Time: 9.41s\n",
      "Epoch 6 Train Loss: 1.640428, Eval Accuracy: 79.31%, Eval Loss: 1.461535, Train Time: 9.39s\n",
      "Epoch 7 Train Loss: 1.396344, Eval Accuracy: 83.21%, Eval Loss: 1.273286, Train Time: 9.81s\n",
      "Epoch 8 Train Loss: 1.169309, Eval Accuracy: 83.82%, Eval Loss: 1.119362, Train Time: 10.23s\n",
      "Epoch 9 Train Loss: 0.983943, Eval Accuracy: 84.62%, Eval Loss: 1.019340, Train Time: 9.34s\n",
      "Epoch 10 Train Loss: 0.826325, Eval Accuracy: 85.07%, Eval Loss: 0.876586, Train Time: 9.38s\n",
      "Epoch 11 Train Loss: 0.711376, Eval Accuracy: 87.85%, Eval Loss: 0.811085, Train Time: 9.38s\n",
      "Epoch 12 Train Loss: 0.615023, Eval Accuracy: 88.15%, Eval Loss: 0.725094, Train Time: 9.51s\n",
      "Epoch 13 Train Loss: 0.539694, Eval Accuracy: 88.03%, Eval Loss: 0.700351, Train Time: 9.74s\n",
      "Epoch 14 Train Loss: 0.485891, Eval Accuracy: 88.94%, Eval Loss: 0.663600, Train Time: 9.35s\n",
      "Epoch 15 Train Loss: 0.388860, Eval Accuracy: 89.42%, Eval Loss: 0.605346, Train Time: 9.50s\n",
      "Epoch 16 Train Loss: 0.403780, Eval Accuracy: 88.43%, Eval Loss: 0.628725, Train Time: 9.67s\n",
      "Epoch 17 Train Loss: 0.374043, Eval Accuracy: 88.45%, Eval Loss: 0.592316, Train Time: 9.83s\n",
      "Epoch 18 Train Loss: 0.352418, Eval Accuracy: 88.74%, Eval Loss: 0.567448, Train Time: 9.71s\n",
      "Epoch 19 Train Loss: 0.357627, Eval Accuracy: 88.72%, Eval Loss: 0.558273, Train Time: 9.74s\n",
      "Epoch 20 Train Loss: 0.320158, Eval Accuracy: 87.73%, Eval Loss: 0.552837, Train Time: 9.59s\n",
      "Early stopping activated\n",
      "Test Accuracy: 84.45153066090175, Test Loss: 0.7131373286247253\n"
     ]
    }
   ],
   "source": [
    "modified_model = ModifiedResNet().to(device)\n",
    "modified_train_acc, modified_train_loss, modified_eval_acc, modified_eval_loss, modified_test_acc, modified_test_loss, modified_train_time = train_eval_test(\n",
    "    modified_model, \n",
    "    train_data_loader, \n",
    "    val_data_loader, \n",
    "    test_data_loader,\n",
    "    no_epochs=no_epochs\n",
    ")\n",
    "\n",
    "del modified_model"
   ]
  },
  {
   "cell_type": "code",
   "execution_count": 10,
   "id": "e1508b4c",
   "metadata": {
    "execution": {
     "iopub.execute_input": "2023-11-09T10:03:06.001140Z",
     "iopub.status.busy": "2023-11-09T10:03:06.000766Z",
     "iopub.status.idle": "2023-11-09T10:13:30.591520Z",
     "shell.execute_reply": "2023-11-09T10:13:30.590751Z"
    }
   },
   "outputs": [
    {
     "name": "stdout",
     "output_type": "stream",
     "text": [
      "Epoch 1 Train Loss: 4.576360, Eval Accuracy: 15.50%, Eval Loss: 4.004943, Train Time: 9.66s\n",
      "Epoch 2 Train Loss: 3.610128, Eval Accuracy: 44.78%, Eval Loss: 3.218554, Train Time: 9.23s\n",
      "Epoch 3 Train Loss: 2.863282, Eval Accuracy: 61.95%, Eval Loss: 2.605871, Train Time: 9.23s\n",
      "Epoch 4 Train Loss: 2.264600, Eval Accuracy: 72.04%, Eval Loss: 2.117710, Train Time: 10.76s\n",
      "Epoch 5 Train Loss: 1.819673, Eval Accuracy: 79.11%, Eval Loss: 1.738529, Train Time: 9.36s\n",
      "Epoch 6 Train Loss: 1.457412, Eval Accuracy: 82.84%, Eval Loss: 1.438333, Train Time: 9.16s\n",
      "Epoch 7 Train Loss: 1.169566, Eval Accuracy: 85.77%, Eval Loss: 1.193888, Train Time: 9.18s\n",
      "Epoch 8 Train Loss: 0.899018, Eval Accuracy: 87.86%, Eval Loss: 1.011892, Train Time: 9.30s\n",
      "Epoch 9 Train Loss: 0.760726, Eval Accuracy: 87.74%, Eval Loss: 0.891522, Train Time: 9.28s\n",
      "Epoch 10 Train Loss: 0.614413, Eval Accuracy: 89.50%, Eval Loss: 0.773017, Train Time: 9.85s\n",
      "Epoch 11 Train Loss: 0.505763, Eval Accuracy: 90.99%, Eval Loss: 0.675672, Train Time: 9.38s\n",
      "Epoch 12 Train Loss: 0.410654, Eval Accuracy: 90.20%, Eval Loss: 0.646989, Train Time: 9.35s\n",
      "Epoch 13 Train Loss: 0.378046, Eval Accuracy: 90.87%, Eval Loss: 0.584796, Train Time: 9.43s\n",
      "Epoch 14 Train Loss: 0.325076, Eval Accuracy: 91.19%, Eval Loss: 0.557523, Train Time: 9.19s\n",
      "Epoch 15 Train Loss: 0.293484, Eval Accuracy: 90.58%, Eval Loss: 0.535258, Train Time: 9.22s\n",
      "Epoch 16 Train Loss: 0.253184, Eval Accuracy: 91.18%, Eval Loss: 0.520021, Train Time: 9.78s\n",
      "Epoch 17 Train Loss: 0.240236, Eval Accuracy: 91.46%, Eval Loss: 0.483696, Train Time: 9.50s\n",
      "Epoch 18 Train Loss: 0.215279, Eval Accuracy: 91.47%, Eval Loss: 0.465233, Train Time: 9.23s\n",
      "Epoch 19 Train Loss: 0.209586, Eval Accuracy: 92.04%, Eval Loss: 0.452309, Train Time: 10.58s\n",
      "Epoch 20 Train Loss: 0.186607, Eval Accuracy: 91.28%, Eval Loss: 0.448142, Train Time: 9.35s\n",
      "Epoch 21 Train Loss: 0.207809, Eval Accuracy: 91.58%, Eval Loss: 0.442289, Train Time: 9.20s\n",
      "Epoch 22 Train Loss: 0.184449, Eval Accuracy: 91.48%, Eval Loss: 0.432859, Train Time: 9.22s\n",
      "Epoch 23 Train Loss: 0.170077, Eval Accuracy: 91.68%, Eval Loss: 0.416453, Train Time: 9.33s\n",
      "Epoch 24 Train Loss: 0.166723, Eval Accuracy: 92.95%, Eval Loss: 0.398764, Train Time: 10.01s\n",
      "Epoch 25 Train Loss: 0.127399, Eval Accuracy: 92.26%, Eval Loss: 0.404347, Train Time: 9.32s\n",
      "Epoch 26 Train Loss: 0.125943, Eval Accuracy: 92.55%, Eval Loss: 0.377970, Train Time: 9.21s\n",
      "Epoch 27 Train Loss: 0.131211, Eval Accuracy: 92.35%, Eval Loss: 0.370092, Train Time: 9.30s\n",
      "Epoch 28 Train Loss: 0.143474, Eval Accuracy: 92.64%, Eval Loss: 0.385918, Train Time: 9.28s\n",
      "Epoch 29 Train Loss: 0.123454, Eval Accuracy: 92.35%, Eval Loss: 0.372658, Train Time: 9.24s\n",
      "Early stopping activated\n",
      "Test Accuracy: 89.26977040816327, Test Loss: 0.5087857313302099\n"
     ]
    }
   ],
   "source": [
    "base_model = models.resnet34(weights=models.ResNet34_Weights.DEFAULT)\n",
    "base_model.fc = nn.Linear(512, 102)\n",
    "base_model = base_model.to(device)\n",
    "base_train_acc, base_train_loss, base_eval_acc, base_eval_loss, base_test_acc, base_test_loss, base_train_time = train_eval_test(\n",
    "    base_model, \n",
    "    train_data_loader, \n",
    "    val_data_loader, \n",
    "    test_data_loader,\n",
    "    no_epochs=no_epochs\n",
    ")\n",
    "\n",
    "del base_model"
   ]
  },
  {
   "cell_type": "code",
   "execution_count": 11,
   "id": "db588edc",
   "metadata": {
    "execution": {
     "iopub.execute_input": "2023-11-09T10:13:30.594432Z",
     "iopub.status.busy": "2023-11-09T10:13:30.594059Z",
     "iopub.status.idle": "2023-11-09T10:13:30.933287Z",
     "shell.execute_reply": "2023-11-09T10:13:30.932710Z"
    }
   },
   "outputs": [],
   "source": [
    "class ResNet34WithSE(nn.Module):\n",
    "    def __init__(self, num_classes):\n",
    "        super(ResNet34WithSE, self).__init__()\n",
    "        self.resnet = torchvision.models.resnet34(weights=models.ResNet34_Weights.DEFAULT)\n",
    "\n",
    "        self.resnet.layer1.add_module('SEBlock', torchvision.ops.SqueezeExcitation(64, 16))\n",
    "        self.resnet.layer2.add_module('SEBlock', torchvision.ops.SqueezeExcitation(128, 16))\n",
    "        self.resnet.layer3.add_module('SEBlock', torchvision.ops.SqueezeExcitation(256, 16))\n",
    "        self.resnet.layer4.add_module('SEBlock', torchvision.ops.SqueezeExcitation(512, 16))\n",
    "        self.resnet.fc = nn.Linear(512, num_classes)\n",
    "\n",
    "        \n",
    "    def forward(self, x):\n",
    "        x = self.resnet(x)\n",
    "        return x\n",
    "\n",
    "# Initialize the ResNet-34 model with SE blocks\n",
    "num_classes = 102  # Replace with the number of classes in your dataset\n",
    "SE_model = ResNet34WithSE(num_classes)\n",
    "\n",
    "SE_model = SE_model.to(device=device)"
   ]
  },
  {
   "cell_type": "code",
   "execution_count": 12,
   "id": "85534972",
   "metadata": {
    "execution": {
     "iopub.execute_input": "2023-11-09T10:13:30.936062Z",
     "iopub.status.busy": "2023-11-09T10:13:30.935821Z",
     "iopub.status.idle": "2023-11-09T10:22:38.486778Z",
     "shell.execute_reply": "2023-11-09T10:22:38.486012Z"
    }
   },
   "outputs": [
    {
     "name": "stdout",
     "output_type": "stream",
     "text": [
      "Epoch 1 Train Loss: 4.546335, Eval Accuracy: 17.46%, Eval Loss: 4.232080, Train Time: 9.69s\n",
      "Epoch 2 Train Loss: 4.049612, Eval Accuracy: 38.91%, Eval Loss: 3.806367, Train Time: 9.41s\n",
      "Epoch 3 Train Loss: 3.604606, Eval Accuracy: 54.69%, Eval Loss: 3.410523, Train Time: 9.24s\n",
      "Epoch 4 Train Loss: 3.185153, Eval Accuracy: 62.56%, Eval Loss: 3.038314, Train Time: 9.33s\n",
      "Epoch 5 Train Loss: 2.842834, Eval Accuracy: 68.54%, Eval Loss: 2.690348, Train Time: 10.12s\n",
      "Epoch 6 Train Loss: 2.470093, Eval Accuracy: 73.23%, Eval Loss: 2.360730, Train Time: 9.23s\n",
      "Epoch 7 Train Loss: 2.156985, Eval Accuracy: 77.48%, Eval Loss: 2.070572, Train Time: 9.24s\n",
      "Epoch 8 Train Loss: 1.840901, Eval Accuracy: 81.97%, Eval Loss: 1.807386, Train Time: 9.31s\n",
      "Epoch 9 Train Loss: 1.554744, Eval Accuracy: 84.10%, Eval Loss: 1.550611, Train Time: 11.06s\n",
      "Epoch 10 Train Loss: 1.306842, Eval Accuracy: 85.98%, Eval Loss: 1.336305, Train Time: 9.21s\n",
      "Epoch 11 Train Loss: 1.063595, Eval Accuracy: 87.46%, Eval Loss: 1.137800, Train Time: 9.28s\n",
      "Epoch 12 Train Loss: 0.882406, Eval Accuracy: 88.14%, Eval Loss: 0.984355, Train Time: 12.64s\n",
      "Epoch 13 Train Loss: 0.737230, Eval Accuracy: 89.60%, Eval Loss: 0.845858, Train Time: 9.30s\n",
      "Epoch 14 Train Loss: 0.607862, Eval Accuracy: 90.78%, Eval Loss: 0.753667, Train Time: 9.25s\n",
      "Epoch 15 Train Loss: 0.478051, Eval Accuracy: 90.30%, Eval Loss: 0.662681, Train Time: 9.94s\n",
      "Epoch 16 Train Loss: 0.411182, Eval Accuracy: 91.18%, Eval Loss: 0.593626, Train Time: 9.28s\n",
      "Epoch 17 Train Loss: 0.349768, Eval Accuracy: 91.76%, Eval Loss: 0.565033, Train Time: 9.30s\n",
      "Epoch 18 Train Loss: 0.342770, Eval Accuracy: 91.36%, Eval Loss: 0.524084, Train Time: 9.32s\n",
      "Epoch 19 Train Loss: 0.293400, Eval Accuracy: 91.57%, Eval Loss: 0.501756, Train Time: 9.26s\n",
      "Epoch 20 Train Loss: 0.246387, Eval Accuracy: 92.06%, Eval Loss: 0.479696, Train Time: 9.30s\n",
      "Epoch 21 Train Loss: 0.231800, Eval Accuracy: 92.06%, Eval Loss: 0.454809, Train Time: 10.06s\n",
      "Epoch 22 Train Loss: 0.182140, Eval Accuracy: 91.00%, Eval Loss: 0.454970, Train Time: 9.40s\n",
      "Epoch 23 Train Loss: 0.200876, Eval Accuracy: 91.48%, Eval Loss: 0.441134, Train Time: 9.11s\n",
      "Epoch 24 Train Loss: 0.190860, Eval Accuracy: 91.17%, Eval Loss: 0.446556, Train Time: 9.23s\n",
      "Epoch 25 Train Loss: 0.157320, Eval Accuracy: 91.66%, Eval Loss: 0.450124, Train Time: 9.04s\n",
      "Early stopping activated\n",
      "Test Accuracy: 87.66581635085903, Test Loss: 0.5890118169541262\n"
     ]
    }
   ],
   "source": [
    "SE_train_acc, SE_train_loss, SE_eval_acc, SE_eval_loss, SE_test_acc, SE_test_loss, SE_train_time = train_eval_test(\n",
    "    SE_model, \n",
    "    train_data_loader, \n",
    "    val_data_loader, \n",
    "    test_data_loader,\n",
    "    no_epochs=no_epochs\n",
    ")\n",
    "\n",
    "del SE_model"
   ]
  },
  {
   "cell_type": "code",
   "execution_count": 13,
   "id": "2bf96b29",
   "metadata": {
    "execution": {
     "iopub.execute_input": "2023-11-09T10:22:38.489512Z",
     "iopub.status.busy": "2023-11-09T10:22:38.489165Z",
     "iopub.status.idle": "2023-11-09T10:22:38.492916Z",
     "shell.execute_reply": "2023-11-09T10:22:38.492370Z"
    }
   },
   "outputs": [],
   "source": [
    "eval_acc = [np.mean(base_eval_acc), np.mean(modified_eval_acc), np.mean(SE_eval_acc)]\n",
    "test_acc = [base_test_acc, modified_test_acc, SE_test_acc]\n",
    "time_taken = [np.mean(base_train_time), np.mean(modified_train_time), np.mean(SE_train_time)]\n",
    "names = ['base', 'modified', 'SE']\n",
    "colours = ['tab:red', 'tab:blue', 'tab:green']"
   ]
  },
  {
   "cell_type": "code",
   "execution_count": 14,
   "id": "0ceca7ee",
   "metadata": {
    "execution": {
     "iopub.execute_input": "2023-11-09T10:22:38.494917Z",
     "iopub.status.busy": "2023-11-09T10:22:38.494721Z",
     "iopub.status.idle": "2023-11-09T10:22:38.957322Z",
     "shell.execute_reply": "2023-11-09T10:22:38.956852Z"
    }
   },
   "outputs": [
    {
     "data": {
      "image/png": "[encoded data removed]",
      "text/plain": [
       "<Figure size 1800x600 with 3 Axes>"
      ]
     },
     "metadata": {},
     "output_type": "display_data"
    }
   ],
   "source": [
    "plt.figure(figsize=(18, 6))\n",
    "plt.subplot(131)\n",
    "plt.title('Validation Accuracies')\n",
    "plt.scatter(names, eval_acc, color=colours)\n",
    "plt.subplot(132)\n",
    "plt.title('Test Accuracies')\n",
    "plt.scatter(names, test_acc, color=colours)\n",
    "plt.subplot(133)\n",
    "plt.title('Training Times')\n",
    "plt.scatter(names, time_taken, color=colours)\n",
    "plt.show()"
   ]
  }
 ],
 "metadata": {
  "kernelspec": {
   "display_name": "Python 3 (ipykernel)",
   "language": "python",
   "name": "python3"
  },
  "language_info": {
   "codemirror_mode": {
    "name": "ipython",
    "version": 3
   },
   "file_extension": ".py",
   "mimetype": "text/x-python",
   "name": "python",
   "nbconvert_exporter": "python",
   "pygments_lexer": "ipython3",
   "version": "3.10.13"
  }
 },
 "nbformat": 4,
 "nbformat_minor": 5
}
