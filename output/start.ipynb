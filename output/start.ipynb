{
 "cells": [
  {
   "cell_type": "code",
   "execution_count": null,
   "id": "initial_id",
   "metadata": {
    "collapsed": true
   },
   "outputs": [],
   "source": [
    "import torch\n",
    "import torch.nn as nn\n",
    "import torchvision\n",
    "from torchvision import models\n",
    "from torchvision import datasets\n",
    "from torchvision import transforms\n",
    "from torchmetrics.classification import MulticlassAccuracy\n",
    "from torchinfo import summary"
   ]
  },
  {
   "cell_type": "code",
   "execution_count": null,
   "id": "608d8d71",
   "metadata": {},
   "outputs": [],
   "source": [
    "no_epochs = 100\n",
    "learning_rate = 0.001\n",
    "batch_size = 256\n",
    "\n",
    "acc_function = MulticlassAccuracy(num_classes=102, average='micro')\n",
    "loss_fn = nn.CrossEntropyLoss()"
   ]
  },
  {
   "cell_type": "code",
   "execution_count": null,
   "id": "34c123e1",
   "metadata": {},
   "outputs": [],
   "source": [
    "transformation = transforms.Compose([\n",
    "    models.VGG16_BN_Weights.IMAGENET1K_V1.transforms()\n",
    "])\n",
    "\n",
    "flowers_train = datasets.Flowers102(root='./data', split='train', download=True, transform=transformation)\n",
    "flowers_test = datasets.Flowers102(root='./data', split='test', download=True, transform=transformation)\n",
    "flowers_val = datasets.Flowers102(root='./data', split='val', download=True, transform=transformation)"
   ]
  },
  {
   "cell_type": "code",
   "execution_count": null,
   "id": "1a6eda9f",
   "metadata": {},
   "outputs": [],
   "source": [
    "def get_data_loader(batch_size):\n",
    "    train_loader = torch.utils.data.DataLoader(flowers_train, batch_size=batch_size, shuffle=True)\n",
    "    test_loader = torch.utils.data.DataLoader(flowers_test, batch_size=batch_size, shuffle=True)\n",
    "    val_loader = torch.utils.data.DataLoader(flowers_val, batch_size=batch_size, shuffle=True)\n",
    "    return train_loader, test_loader, val_loader"
   ]
  },
  {
   "cell_type": "code",
   "execution_count": null,
   "id": "b6ba0403",
   "metadata": {},
   "outputs": [],
   "source": [
    "def train(model, optimizer, dataloader, loss_fn=loss_fn):\n",
    "    loss_value = 0\n",
    "    device = next(model.parameters()).device\n",
    "    for images, labels in dataloader:\n",
    "        optimizer.zero_grad()\n",
    "        images = images.to(device)\n",
    "        labels = labels.to(device)\n",
    "        outputs = model(images)\n",
    "        loss = loss_fn(outputs, labels)\n",
    "        loss_value += loss.item()\n",
    "        loss.backward()\n",
    "        optimizer.step()\n",
    "    return loss_value / len(dataloader)\n",
    "\n",
    "def test_eval(model, dataloader, loss_fn=loss_fn):\n",
    "    loss = 0\n",
    "    acc = 0\n",
    "    device = next(model.parameters()).device\n",
    "    with torch.no_grad():\n",
    "        for images, labels in dataloader:\n",
    "            images = images.to(device)\n",
    "            labels = labels.to(device)\n",
    "            outputs = model(images)\n",
    "            loss += loss_fn(outputs, labels).item()\n",
    "            acc += acc_function(outputs, labels).item()\n",
    "    acc /= len(dataloader)\n",
    "    loss /= len(dataloader)\n",
    "    return acc, loss\n",
    "\n",
    "def train_eval_loop(model, train_dataloader, val_dataloader, no_epochs=10):\n",
    "    optimizer = torch.optim.Adam(model.parameters(), lr=learning_rate)\n",
    "    train_loss_arr, train_acc_arr, eval_loss_arr, eval_acc_arr = [], [], [], []\n",
    "    for i in range(no_epochs):\n",
    "        print(f'Epoch {i+1}')\n",
    "        train_loss = train(model, optimizer, train_dataloader)\n",
    "        eval_loss, eval_acc = test_eval(model, val_dataloader)\n",
    "        print('Train Loss: {}, Eval Accuracy: {}, Eval Loss: {}'.format(train_loss, eval_acc, eval_loss))\n",
    "        train_loss_arr.append(train_loss)\n",
    "        eval_loss_arr.append(eval_loss)\n",
    "        eval_acc_arr.append(eval_acc)\n",
    "    return train_loss_arr, train_acc_arr, eval_loss_arr, eval_acc_arr"
   ]
  },
  {
   "cell_type": "code",
   "execution_count": null,
   "id": "5ccac6cb",
   "metadata": {},
   "outputs": [],
   "source": [
    "def create_model():\n",
    "    model = models.vgg16_bn(weights='DEFAULT')\n",
    "    new_classifier_head = nn.Sequential(\n",
    "        nn.Linear(25088, 4096),\n",
    "        nn.ReLU(),\n",
    "        nn.Dropout(0.5),\n",
    "        nn.Linear(4096, 102),\n",
    "        nn.Softmax(dim=1)\n",
    "    )\n",
    "    model.classifier = new_classifier_head\n",
    "    for param in model.features.parameters():\n",
    "        param.requires_grad = False\n",
    "    for l in model.classifier:\n",
    "        for p in l.parameters():\n",
    "            p.requires_grad = True\n",
    "    return model"
   ]
  },
  {
   "cell_type": "code",
   "execution_count": null,
   "id": "e5945153",
   "metadata": {},
   "outputs": [],
   "source": [
    "model = create_model()\n",
    "acc_function = acc_function.to(next(model.parameters()).device)\n",
    "train_data_loader, test_data_loader, val_data_loader = get_data_loader(batch_size)\n",
    "train_acc, train_loss, eval_acc, eval_loss = train_eval_loop(model, train_data_loader, val_data_loader, no_epochs=no_epochs)"
   ]
  }
 ],
 "metadata": {
  "kernelspec": {
   "display_name": "Python 3",
   "language": "python",
   "name": "python3"
  },
  "language_info": {
   "codemirror_mode": {
    "name": "ipython",
    "version": 3
   },
   "file_extension": ".py",
   "mimetype": "text/x-python",
   "name": "python",
   "nbconvert_exporter": "python",
   "pygments_lexer": "ipython3",
   "version": "3.11.6"
  }
 },
 "nbformat": 4,
 "nbformat_minor": 5
}
