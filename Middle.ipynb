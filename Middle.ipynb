{
 "cells": [
  {
   "cell_type": "code",
   "execution_count": 1,
   "id": "6e12074a",
   "metadata": {},
   "outputs": [],
   "source": [
    "import torch\n",
    "import torch.nn as nn\n",
    "import torchvision\n",
    "from torchvision import models\n",
    "from torchvision import datasets\n",
    "from torchvision import transforms\n",
    "from torchmetrics.classification import MulticlassAccuracy\n",
    "import numpy as np\n",
    "from collections import OrderedDict\n",
    "import matplotlib.pyplot as plt\n",
    "import datetime\n",
    "import pandas as pd"
   ]
  },
  {
   "cell_type": "code",
   "execution_count": 2,
   "id": "722661ee",
   "metadata": {},
   "outputs": [
    {
     "name": "stdout",
     "output_type": "stream",
     "text": [
      "cuda:0\n"
     ]
    }
   ],
   "source": [
    "no_epochs = 50\n",
    "learning_rate = 0.0001\n",
    "batch_size = 128\n",
    "\n",
    "device = torch.device(\"cuda:0\" if torch.cuda.is_available() else \"cpu\")\n",
    "print(device)\n",
    "\n",
    "acc_function = MulticlassAccuracy(num_classes=102, average='micro').to(device)\n",
    "loss_fn = nn.CrossEntropyLoss()\n",
    "\n",
    "SEED = 196\n",
    "np.random.seed(SEED)\n",
    "generator = torch.Generator().manual_seed(SEED)"
   ]
  },
  {
   "cell_type": "code",
   "execution_count": 3,
   "id": "2bae97fb",
   "metadata": {},
   "outputs": [],
   "source": [
    "# Data Augmentation\n",
    "train_transforms = transforms.Compose([\n",
    "    transforms.RandomRotation(30),\n",
    "    transforms.RandomResizedCrop(224),\n",
    "    transforms.RandomHorizontalFlip(),\n",
    "    transforms.ToTensor(),\n",
    "    transforms.Normalize([0.485, 0.456, 0.406], [0.229, 0.224, 0.225])\n",
    "])\n",
    "\n",
    "# Assuming you want to keep the default transformations for testing/validation:\n",
    "default_transforms = transforms.Compose([\n",
    "    models.VGG16_BN_Weights.IMAGENET1K_V1.transforms()\n",
    "])\n",
    "\n",
    "flowers_train = datasets.Flowers102(root='./data', split='train', download=True, transform=train_transforms)\n",
    "flowers_test = datasets.Flowers102(root='./data', split='test', download=True, transform=default_transforms)\n",
    "flowers_val = datasets.Flowers102(root='./data', split='val', download=True, transform=default_transforms)\n"
   ]
  },
  {
   "cell_type": "code",
   "execution_count": 4,
   "id": "673df4cc",
   "metadata": {},
   "outputs": [],
   "source": [
    "def get_data_loader(batch_size):\n",
    "    train_loader = torch.utils.data.DataLoader(flowers_train, batch_size=batch_size, shuffle=True, generator=generator)\n",
    "    test_loader = torch.utils.data.DataLoader(flowers_test, batch_size=batch_size, shuffle=True, generator=generator)\n",
    "    val_loader = torch.utils.data.DataLoader(flowers_val, batch_size=batch_size, shuffle=True, generator=generator)\n",
    "    return train_loader, test_loader, val_loader"
   ]
  },
  {
   "cell_type": "code",
   "execution_count": 5,
   "id": "3ba9fdde",
   "metadata": {},
   "outputs": [],
   "source": [
    "# Early stopping based on accuracy\n",
    "class AccuracyEarlyStopper:\n",
    "    def __init__(self, patience=5, min_delta=0.01):\n",
    "        self.patience = patience\n",
    "        self.min_delta = min_delta\n",
    "        self.counter = 0\n",
    "        self.max_validation_accuracy = 0\n",
    "\n",
    "    def early_stop(self, validation_accuracy):\n",
    "        if validation_accuracy > (self.max_validation_accuracy + self.min_delta):\n",
    "            self.max_validation_accuracy = validation_accuracy\n",
    "            self.counter = 0\n",
    "        else:\n",
    "            self.counter += 1\n",
    "            if self.counter >= self.patience:\n",
    "                return True\n",
    "        return False"
   ]
  },
  {
   "cell_type": "code",
   "execution_count": 6,
   "id": "385d2ac4",
   "metadata": {},
   "outputs": [],
   "source": [
    "def train(model, optimizer, dataloader, loss_fn=loss_fn):\n",
    "    running_loss_value = 0\n",
    "    for images, labels in dataloader:\n",
    "        optimizer.zero_grad()\n",
    "        images = images.to(device)\n",
    "        labels = labels.to(device)\n",
    "        outputs = model(images)\n",
    "        loss = loss_fn(outputs, labels)\n",
    "        running_loss_value += loss.item()\n",
    "        loss.backward()\n",
    "        optimizer.step()\n",
    "    return running_loss_value / len(dataloader)\n",
    "\n",
    "def test_eval(model, dataloader, loss_fn=loss_fn):\n",
    "    running_loss_value = 0\n",
    "    running_acc_value = 0\n",
    "    with torch.no_grad():\n",
    "        for images, labels in dataloader:\n",
    "            images = images.to(device)\n",
    "            labels = labels.to(device)\n",
    "            outputs = model(images)\n",
    "            loss = loss_fn(outputs, labels)\n",
    "            acc = acc_function(outputs, labels)\n",
    "            running_loss_value += loss.item()\n",
    "            running_acc_value += acc.item()\n",
    "    running_acc_value /= len(dataloader)\n",
    "    running_loss_value /= len(dataloader)\n",
    "    return running_acc_value*100, running_loss_value\n",
    "\n",
    "def train_eval_test(model, train_dataloader, val_dataloader, test_dataloader, no_epochs=10):\n",
    "    es = AccuracyEarlyStopper()\n",
    "    optimizer = torch.optim.Adam(model.parameters(), lr=learning_rate)\n",
    "    train_loss_arr, train_acc_arr, eval_loss_arr, eval_acc_arr, train_time = [], [], [], [], []\n",
    "    for i in range(no_epochs):\n",
    "        start = datetime.datetime.now()\n",
    "        train_loss = train(model, optimizer, train_dataloader)\n",
    "        end = datetime.datetime.now()\n",
    "        eval_acc, eval_loss = test_eval(model, val_dataloader)\n",
    "        time_taken = (end-start).total_seconds()\n",
    "        print(f'Epoch {i+1} Train Loss: {train_loss:>8f}, Eval Accuracy: {eval_acc:>0.2f}%, Eval Loss: {eval_loss:>8f}, Train Time: {time_taken:>0.2f}s')\n",
    "        train_loss_arr.append(train_loss)\n",
    "        eval_loss_arr.append(eval_loss)\n",
    "        eval_acc_arr.append(eval_acc)\n",
    "        train_time.append(time_taken)\n",
    "        if es.early_stop(eval_acc):\n",
    "            print('Early stopping activated')\n",
    "            break\n",
    "    test_acc, test_loss = test_eval(model, test_dataloader)\n",
    "    print(f\"Test Accuracy: {test_acc}, Test Loss: {test_loss}\")\n",
    "    return train_loss_arr, train_acc_arr, eval_loss_arr, eval_acc_arr, test_acc, test_loss, train_time"
   ]
  },
  {
   "cell_type": "code",
   "execution_count": 7,
   "id": "942779d8",
   "metadata": {},
   "outputs": [],
   "source": [
    "class ModifiedResNet(nn.Module):\n",
    "    def __init__(self, num_classes=102):\n",
    "        super(ModifiedResNet, self).__init__()\n",
    "        self.resnet = models.resnet34(weights=models.ResNet34_Weights.DEFAULT)\n",
    "                        \n",
    "        new_last_layer_1 = nn.Sequential(OrderedDict([\n",
    "            ('conv1', nn.Conv2d(256, 512, kernel_size=(3, 3), stride=(1, 1), bias=False)),\n",
    "            ('bn1', nn.BatchNorm2d(512, eps=1e-05, momentum=0.1, affine=True, track_running_stats=True)),\n",
    "            ('relu1', nn.ReLU(inplace=True)),\n",
    "            ('conv2', nn.Conv2d(512, 512, kernel_size=(3, 3), stride=(1, 1), padding=(1,1), bias=False)),\n",
    "            ('bn2', nn.BatchNorm2d(512, eps=1e-05, momentum=0.1, affine=True, track_running_stats=True)),\n",
    "            ('conv3', nn.Conv2d(512, 2048, kernel_size=(1, 1), stride=(1, 1), bias=False)),\n",
    "            ('bn3', nn.BatchNorm2d(2048, eps=1e-05, momentum=0.1, affine=True, track_running_stats=True)),\n",
    "            ('relu2', nn.ReLU(inplace=True)),\n",
    "            ('downsample', nn.Sequential(OrderedDict([\n",
    "                ('0', nn.Conv2d(2048, 2048, kernel_size=(1, 1), stride=(1, 1), bias=False)),\n",
    "                ('1', nn.BatchNorm2d(2048, eps=1e-05, momentum=0.1, affine=True, track_running_stats=True))\n",
    "            ])))\n",
    "        ]))\n",
    "        \n",
    "        new_last_layer_2 = nn.Sequential(OrderedDict([\n",
    "            ('conv1', nn.Conv2d(2048, 512, kernel_size=(1, 1), stride=(1, 1), bias=False)),\n",
    "            ('bn1', nn.BatchNorm2d(512, eps=1e-05, momentum=0.1, affine=True, track_running_stats=True)),\n",
    "            ('conv2', nn.Conv2d(512, 512, kernel_size=(3, 3), stride=(1, 1), padding=(1, 1), bias=False)),\n",
    "            ('bn2', nn.BatchNorm2d(512, eps=1e-05, momentum=0.1, affine=True, track_running_stats=True)),\n",
    "            ('conv3', nn.Conv2d(512, 2048, kernel_size=(1, 1), stride=(1, 1), bias=False)),\n",
    "            ('bn3', nn.BatchNorm2d(2048, eps=1e-05, momentum=0.1, affine=True, track_running_stats=True)),\n",
    "            ('relu', nn.ReLU(inplace=True))\n",
    "        ]))\n",
    "        \n",
    "        new_last_layer_3 = nn.Sequential(OrderedDict([\n",
    "            ('conv1', nn.Conv2d(2048, 512, kernel_size=(1, 1), stride=(1, 1), bias=False)),\n",
    "            ('bn1', nn.BatchNorm2d(512, eps=1e-05, momentum=0.1, affine=True, track_running_stats=True)),\n",
    "            ('conv2', nn.Conv2d(512, 512, kernel_size=(3, 3), stride=(1, 1), padding=(1, 1), bias=False)),\n",
    "            ('bn2', nn.BatchNorm2d(512, eps=1e-05, momentum=0.1, affine=True, track_running_stats=True)),\n",
    "            ('conv3', nn.Conv2d(512, 2048, kernel_size=(1, 1), stride=(1, 1), bias=False)),\n",
    "            ('bn3', nn.BatchNorm2d(2048, eps=1e-05, momentum=0.1, affine=True, track_running_stats=True)),\n",
    "            ('relu', nn.ReLU(inplace=True))\n",
    "        ]))\n",
    "        \n",
    "        new_last_layer = nn.Sequential(OrderedDict([\n",
    "            ('1', new_last_layer_1),\n",
    "            ('2', new_last_layer_2),\n",
    "            ('3', new_last_layer_3)\n",
    "        ]))\n",
    "        self.resnet.layer4 = new_last_layer\n",
    "        # self.resnet.avgpool = nn.AdaptiveAvgPool2d(output_size=(1, 1))\n",
    "        self.resnet.fc = nn.Linear(2048, num_classes, bias=True)\n",
    "        \n",
    "    def forward(self, x):\n",
    "        return self.resnet(x)\n",
    "    "
   ]
  },
  {
   "cell_type": "code",
   "execution_count": 8,
   "metadata": {},
   "outputs": [],
   "source": [
    "train_data_loader, test_data_loader, val_data_loader = get_data_loader(batch_size)"
   ]
  },
  {
   "cell_type": "code",
   "execution_count": 9,
   "metadata": {},
   "outputs": [],
   "source": [
    "modified_model = ModifiedResNet().to(device)\n",
    "modified_train_acc, modified_train_loss, modified_eval_loss, modified_eval_acc, modified_test_acc, modified_test_loss, modified_train_time = train_eval_test(\n",
    "    modified_model, \n",
    "    train_data_loader, \n",
    "    val_data_loader, \n",
    "    test_data_loader,\n",
    "    no_epochs=no_epochs\n",
    ")\n",
    "\n",
    "del modified_model"
   ]
  },
  {
   "cell_type": "code",
   "execution_count": 10,
   "metadata": {},
   "outputs": [
    {
     "name": "stdout",
     "output_type": "stream",
     "text": [
      "Epoch 1 Train Loss: 4.564958, Eval Accuracy: 18.53%, Eval Loss: 3.995263, Train Time: 7.50s\n",
      "Epoch 2 Train Loss: 3.638595, Eval Accuracy: 46.17%, Eval Loss: 3.206821, Train Time: 6.53s\n",
      "Epoch 3 Train Loss: 2.882829, Eval Accuracy: 66.18%, Eval Loss: 2.586683, Train Time: 6.57s\n",
      "Epoch 4 Train Loss: 2.331457, Eval Accuracy: 74.42%, Eval Loss: 2.088416, Train Time: 6.51s\n",
      "Epoch 5 Train Loss: 1.839922, Eval Accuracy: 79.30%, Eval Loss: 1.707879, Train Time: 6.64s\n",
      "Epoch 6 Train Loss: 1.434732, Eval Accuracy: 83.06%, Eval Loss: 1.402232, Train Time: 6.37s\n",
      "Epoch 7 Train Loss: 1.149560, Eval Accuracy: 87.18%, Eval Loss: 1.160066, Train Time: 7.05s\n",
      "Epoch 8 Train Loss: 0.960951, Eval Accuracy: 87.47%, Eval Loss: 1.008158, Train Time: 7.06s\n",
      "Epoch 9 Train Loss: 0.752655, Eval Accuracy: 89.50%, Eval Loss: 0.864499, Train Time: 6.97s\n",
      "Epoch 10 Train Loss: 0.606052, Eval Accuracy: 90.89%, Eval Loss: 0.746040, Train Time: 6.95s\n",
      "Epoch 11 Train Loss: 0.530668, Eval Accuracy: 90.97%, Eval Loss: 0.655725, Train Time: 6.36s\n",
      "Epoch 12 Train Loss: 0.443207, Eval Accuracy: 91.77%, Eval Loss: 0.597873, Train Time: 6.39s\n",
      "Epoch 13 Train Loss: 0.413232, Eval Accuracy: 92.45%, Eval Loss: 0.554748, Train Time: 6.34s\n",
      "Epoch 14 Train Loss: 0.324556, Eval Accuracy: 92.35%, Eval Loss: 0.515607, Train Time: 6.32s\n",
      "Epoch 15 Train Loss: 0.303970, Eval Accuracy: 92.55%, Eval Loss: 0.482977, Train Time: 7.05s\n",
      "Epoch 16 Train Loss: 0.305829, Eval Accuracy: 92.85%, Eval Loss: 0.457814, Train Time: 6.94s\n",
      "Epoch 17 Train Loss: 0.215993, Eval Accuracy: 92.75%, Eval Loss: 0.471123, Train Time: 6.98s\n",
      "Epoch 18 Train Loss: 0.234751, Eval Accuracy: 92.27%, Eval Loss: 0.447614, Train Time: 7.28s\n",
      "Epoch 19 Train Loss: 0.201875, Eval Accuracy: 92.24%, Eval Loss: 0.438467, Train Time: 6.34s\n",
      "Epoch 20 Train Loss: 0.218632, Eval Accuracy: 92.52%, Eval Loss: 0.414092, Train Time: 7.59s\n",
      "Epoch 21 Train Loss: 0.160783, Eval Accuracy: 93.31%, Eval Loss: 0.394782, Train Time: 7.23s\n",
      "Epoch 22 Train Loss: 0.179350, Eval Accuracy: 93.44%, Eval Loss: 0.385847, Train Time: 7.14s\n",
      "Epoch 23 Train Loss: 0.159457, Eval Accuracy: 92.36%, Eval Loss: 0.373903, Train Time: 7.08s\n",
      "Epoch 24 Train Loss: 0.142238, Eval Accuracy: 93.04%, Eval Loss: 0.380278, Train Time: 7.18s\n",
      "Epoch 25 Train Loss: 0.156030, Eval Accuracy: 93.05%, Eval Loss: 0.381002, Train Time: 6.48s\n",
      "Epoch 26 Train Loss: 0.163960, Eval Accuracy: 92.85%, Eval Loss: 0.366395, Train Time: 6.50s\n",
      "Epoch 27 Train Loss: 0.142786, Eval Accuracy: 93.12%, Eval Loss: 0.370944, Train Time: 6.40s\n",
      "Early stopping activated\n",
      "Test Accuracy: 88.93176025273848, Test Loss: 0.5285397056414156\n"
     ]
    }
   ],
   "source": [
    "base_model = models.resnet34(weights=models.ResNet34_Weights.DEFAULT)\n",
    "base_model.fc = nn.Linear(512, 102)\n",
    "base_model = base_model.to(device)\n",
    "base_train_acc, base_train_loss, base_eval_loss, base_eval_acc, base_test_acc, base_test_loss, base_train_time = train_eval_test(\n",
    "    base_model, \n",
    "    train_data_loader, \n",
    "    val_data_loader, \n",
    "    test_data_loader,\n",
    "    no_epochs=no_epochs\n",
    ")\n",
    "\n",
    "del base_model"
   ]
  },
  {
   "cell_type": "code",
   "execution_count": 11,
   "metadata": {},
   "outputs": [],
   "source": [
    "class ResNet34WithSE(nn.Module):\n",
    "    def __init__(self, num_classes):\n",
    "        super(ResNet34WithSE, self).__init__()\n",
    "        self.resnet = torchvision.models.resnet34(weights=models.ResNet34_Weights.DEFAULT)\n",
    "\n",
    "        self.resnet.layer1.add_module('SEBlock', torchvision.ops.SqueezeExcitation(64, 16))\n",
    "        self.resnet.layer2.add_module('SEBlock', torchvision.ops.SqueezeExcitation(128, 16))\n",
    "        self.resnet.layer3.add_module('SEBlock', torchvision.ops.SqueezeExcitation(256, 16))\n",
    "        self.resnet.layer4.add_module('SEBlock', torchvision.ops.SqueezeExcitation(512, 16))\n",
    "        self.resnet.fc = nn.Linear(512, num_classes)\n",
    "\n",
    "        \n",
    "    def forward(self, x):\n",
    "        x = self.resnet(x)\n",
    "        return x\n",
    "\n",
    "\n",
    "num_classes = 102  \n",
    "SE_model = ResNet34WithSE(num_classes)\n",
    "\n",
    "SE_model = SE_model.to(device=device)"
   ]
  },
  {
   "cell_type": "code",
   "execution_count": 12,
   "metadata": {},
   "outputs": [
    {
     "name": "stdout",
     "output_type": "stream",
     "text": [
      "Epoch 1 Train Loss: 4.535070, Eval Accuracy: 18.26%, Eval Loss: 4.218049, Train Time: 6.94s\n",
      "Epoch 2 Train Loss: 4.019636, Eval Accuracy: 40.37%, Eval Loss: 3.760670, Train Time: 6.36s\n",
      "Epoch 3 Train Loss: 3.554343, Eval Accuracy: 56.56%, Eval Loss: 3.345177, Train Time: 6.55s\n",
      "Epoch 4 Train Loss: 3.141855, Eval Accuracy: 64.32%, Eval Loss: 2.964846, Train Time: 6.45s\n",
      "Epoch 5 Train Loss: 2.774322, Eval Accuracy: 68.91%, Eval Loss: 2.624135, Train Time: 7.60s\n",
      "Epoch 6 Train Loss: 2.403488, Eval Accuracy: 72.44%, Eval Loss: 2.303456, Train Time: 6.40s\n",
      "Epoch 7 Train Loss: 2.073919, Eval Accuracy: 78.26%, Eval Loss: 2.002135, Train Time: 6.86s\n",
      "Epoch 8 Train Loss: 1.789121, Eval Accuracy: 80.90%, Eval Loss: 1.733373, Train Time: 6.68s\n",
      "Epoch 9 Train Loss: 1.491764, Eval Accuracy: 85.01%, Eval Loss: 1.471650, Train Time: 6.15s\n",
      "Epoch 10 Train Loss: 1.239240, Eval Accuracy: 87.93%, Eval Loss: 1.252740, Train Time: 6.23s\n",
      "Epoch 11 Train Loss: 0.989425, Eval Accuracy: 89.01%, Eval Loss: 1.057174, Train Time: 6.20s\n",
      "Epoch 12 Train Loss: 0.811440, Eval Accuracy: 89.92%, Eval Loss: 0.896733, Train Time: 6.58s\n",
      "Epoch 13 Train Loss: 0.666862, Eval Accuracy: 90.98%, Eval Loss: 0.781523, Train Time: 6.68s\n",
      "Epoch 14 Train Loss: 0.527236, Eval Accuracy: 91.36%, Eval Loss: 0.698389, Train Time: 6.37s\n",
      "Epoch 15 Train Loss: 0.455509, Eval Accuracy: 91.96%, Eval Loss: 0.621555, Train Time: 6.42s\n",
      "Epoch 16 Train Loss: 0.396503, Eval Accuracy: 91.66%, Eval Loss: 0.594335, Train Time: 6.59s\n",
      "Epoch 17 Train Loss: 0.350633, Eval Accuracy: 91.89%, Eval Loss: 0.540209, Train Time: 6.69s\n",
      "Epoch 18 Train Loss: 0.296352, Eval Accuracy: 92.54%, Eval Loss: 0.510555, Train Time: 6.80s\n",
      "Epoch 19 Train Loss: 0.233507, Eval Accuracy: 92.94%, Eval Loss: 0.474615, Train Time: 6.42s\n",
      "Epoch 20 Train Loss: 0.224057, Eval Accuracy: 92.55%, Eval Loss: 0.465408, Train Time: 6.21s\n",
      "Epoch 21 Train Loss: 0.216976, Eval Accuracy: 92.25%, Eval Loss: 0.455848, Train Time: 6.69s\n",
      "Epoch 22 Train Loss: 0.200666, Eval Accuracy: 93.04%, Eval Loss: 0.419775, Train Time: 6.45s\n",
      "Epoch 23 Train Loss: 0.180319, Eval Accuracy: 91.95%, Eval Loss: 0.418869, Train Time: 6.39s\n",
      "Epoch 24 Train Loss: 0.176119, Eval Accuracy: 92.06%, Eval Loss: 0.412778, Train Time: 6.34s\n",
      "Epoch 25 Train Loss: 0.181205, Eval Accuracy: 92.45%, Eval Loss: 0.414535, Train Time: 6.39s\n",
      "Epoch 26 Train Loss: 0.153767, Eval Accuracy: 92.36%, Eval Loss: 0.397028, Train Time: 6.41s\n",
      "Epoch 27 Train Loss: 0.166058, Eval Accuracy: 91.47%, Eval Loss: 0.400853, Train Time: 6.47s\n",
      "Early stopping activated\n",
      "Test Accuracy: 88.93494897959184, Test Loss: 0.5487913154825872\n"
     ]
    }
   ],
   "source": [
    "SE_train_acc, SE_train_loss, SE_eval_loss, SE_eval_acc, SE_test_acc, SE_test_loss, SE_train_time = train_eval_test(\n",
    "    SE_model, \n",
    "    train_data_loader, \n",
    "    val_data_loader, \n",
    "    test_data_loader,\n",
    "    no_epochs=no_epochs\n",
    ")\n",
    "\n",
    "del SE_model"
   ]
  },
  {
   "cell_type": "code",
   "execution_count": 13,
   "metadata": {},
   "outputs": [],
   "source": [
    "eval_acc = [np.mean(base_eval_acc), np.mean(modified_eval_acc), np.mean(SE_eval_acc)]\n",
    "test_acc = [base_test_acc, modified_test_acc, SE_test_acc]\n",
    "time_taken = [np.mean(base_train_time), np.mean(modified_train_time), np.mean(SE_train_time)]\n",
    "names = ['base', 'modified', 'SE']\n",
    "colours = ['tab:red', 'tab:blue', 'tab:green']"
   ]
  },
  {
   "cell_type": "code",
   "execution_count": 14,
   "metadata": {},
   "outputs": [],
   "source": [
    "# eval_acc = [np.mean(base_eval_acc), np.mean(SE_eval_acc)]\n",
    "# test_acc = [base_test_acc, SE_test_acc]\n",
    "# time_taken = [np.mean(base_train_time), np.mean(SE_train_time)]\n",
    "# names = ['base', 'SE']\n",
    "# colours = ['tab:red', 'tab:green']"
   ]
  },
  {
   "cell_type": "code",
   "execution_count": 15,
   "metadata": {},
   "outputs": [
    {
     "data": {
      "image/png": "[encoded data removed]",
      "text/plain": [
       "<Figure size 1800x600 with 3 Axes>"
      ]
     },
     "metadata": {},
     "output_type": "display_data"
    }
   ],
   "source": [
    "plt.figure(figsize=(18, 6))\n",
    "plt.subplot(131)\n",
    "plt.title('Validation Accuracies')\n",
    "plt.scatter(names, eval_acc, color=colours)\n",
    "plt.subplot(132)\n",
    "plt.title('Test Accuracies')\n",
    "plt.scatter(names, test_acc, color=colours)\n",
    "plt.subplot(133)\n",
    "plt.title('Training Times')\n",
    "plt.scatter(names, time_taken, color=colours)\n",
    "plt.show()"
   ]
  },
  {
   "cell_type": "code",
   "execution_count": 16,
   "metadata": {},
   "outputs": [
    {
     "data": {
      "text/html": [
       "<div>\n",
       "<style scoped>\n",
       "    .dataframe tbody tr th:only-of-type {\n",
       "        vertical-align: middle;\n",
       "    }\n",
       "\n",
       "    .dataframe tbody tr th {\n",
       "        vertical-align: top;\n",
       "    }\n",
       "\n",
       "    .dataframe thead th {\n",
       "        text-align: right;\n",
       "    }\n",
       "</style>\n",
       "<table border=\"1\" class=\"dataframe\">\n",
       "  <thead>\n",
       "    <tr style=\"text-align: right;\">\n",
       "      <th></th>\n",
       "      <th>Names</th>\n",
       "      <th>Eval_Acc</th>\n",
       "      <th>Test_Acc</th>\n",
       "      <th>Time_Taken</th>\n",
       "    </tr>\n",
       "  </thead>\n",
       "  <tbody>\n",
       "    <tr>\n",
       "      <th>0</th>\n",
       "      <td>base</td>\n",
       "      <td>85.059294</td>\n",
       "      <td>88.931760</td>\n",
       "      <td>6.806523</td>\n",
       "    </tr>\n",
       "    <tr>\n",
       "      <th>1</th>\n",
       "      <td>SE</td>\n",
       "      <td>81.975480</td>\n",
       "      <td>88.934949</td>\n",
       "      <td>6.530632</td>\n",
       "    </tr>\n",
       "  </tbody>\n",
       "</table>\n",
       "</div>"
      ],
      "text/plain": [
       "  Names   Eval_Acc   Test_Acc  Time_Taken\n",
       "0  base  85.059294  88.931760    6.806523\n",
       "1    SE  81.975480  88.934949    6.530632"
      ]
     },
     "execution_count": 16,
     "metadata": {},
     "output_type": "execute_result"
    }
   ],
   "source": [
    "data = {'Names': names, 'Eval_Acc': eval_acc, 'Test_Acc': test_acc, 'Time_Taken': time_taken}\n",
    "\n",
    "df = pd.DataFrame(data)\n",
    "df"
   ]
  }
 ],
 "metadata": {
  "kernelspec": {
   "display_name": "Python 3 (ipykernel)",
   "language": "python",
   "name": "python3"
  },
  "language_info": {
   "codemirror_mode": {
    "name": "ipython",
    "version": 3
   },
   "file_extension": ".py",
   "mimetype": "text/x-python",
   "name": "python",
   "nbconvert_exporter": "python",
   "pygments_lexer": "ipython3",
   "version": "3.11.6"
  }
 },
 "nbformat": 4,
 "nbformat_minor": 5
}
