{
 "cells": [
  {
   "cell_type": "code",
   "execution_count": 1,
   "id": "initial_id",
   "metadata": {},
   "outputs": [],
   "source": [
    "import torch\n",
    "import torch.nn as nn\n",
    "import torchvision\n",
    "from torchvision import models\n",
    "from torchvision import datasets\n",
    "from torchvision import transforms\n",
    "from torchmetrics.classification import MulticlassAccuracy\n",
    "from torchinfo import summary\n",
    "import os.path"
   ]
  },
  {
   "cell_type": "code",
   "execution_count": 2,
   "id": "608d8d71",
   "metadata": {},
   "outputs": [
    {
     "name": "stdout",
     "output_type": "stream",
     "text": [
      "cuda:0\n"
     ]
    }
   ],
   "source": [
    "no_epochs = 50\n",
    "learning_rate = 0.001\n",
    "batch_size = 128\n",
    "\n",
    "device = torch.device(\"cuda:0\" if torch.cuda.is_available() else \"cpu\")\n",
    "print(device)\n",
    "\n",
    "acc_function = MulticlassAccuracy(num_classes=102, average='micro').to(device)\n",
    "loss_fn = nn.CrossEntropyLoss()\n",
    "\n",
    "PATH = './model.pth'"
   ]
  },
  {
   "cell_type": "code",
   "execution_count": 18,
   "id": "57193b9d",
   "metadata": {},
   "outputs": [
    {
     "name": "stdout",
     "output_type": "stream",
     "text": [
      "Linear(in_features=512, out_features=1000, bias=True)\n"
     ]
    }
   ],
   "source": [
    "model = models.resnet18()\n",
    "print(model.fc)"
   ]
  },
  {
   "cell_type": "code",
   "execution_count": 3,
   "id": "34c123e1",
   "metadata": {},
   "outputs": [],
   "source": [
    "# Data Augmentation\n",
    "train_transforms = transforms.Compose([\n",
    "    transforms.RandomRotation(30),\n",
    "    transforms.RandomResizedCrop(224),\n",
    "    transforms.RandomHorizontalFlip(),\n",
    "    transforms.ToTensor(),\n",
    "    transforms.Normalize([0.485, 0.456, 0.406], [0.229, 0.224, 0.225])\n",
    "])\n",
    "\n",
    "# Assuming you want to keep the default transformations for testing/validation:\n",
    "default_transforms = transforms.Compose([\n",
    "    models.VGG16_BN_Weights.IMAGENET1K_V1.transforms()\n",
    "])\n",
    "\n",
    "flowers_train = datasets.Flowers102(root='./data', split='train', download=True, transform=train_transforms)\n",
    "flowers_test = datasets.Flowers102(root='./data', split='test', download=True, transform=default_transforms)\n",
    "flowers_val = datasets.Flowers102(root='./data', split='val', download=True, transform=default_transforms)\n"
   ]
  },
  {
   "cell_type": "code",
   "execution_count": 4,
   "id": "1a6eda9f",
   "metadata": {},
   "outputs": [],
   "source": [
    "def get_data_loader(batch_size):\n",
    "    train_loader = torch.utils.data.DataLoader(flowers_train, batch_size=batch_size, shuffle=True)\n",
    "    test_loader = torch.utils.data.DataLoader(flowers_test, batch_size=batch_size, shuffle=True)\n",
    "    val_loader = torch.utils.data.DataLoader(flowers_val, batch_size=batch_size, shuffle=True)\n",
    "    return train_loader, test_loader, val_loader"
   ]
  },
  {
   "cell_type": "code",
   "execution_count": 5,
   "id": "bdcdb8bd",
   "metadata": {},
   "outputs": [],
   "source": [
    "# Early stopping based on accuracy\n",
    "class AccuracyEarlyStopper:\n",
    "    def __init__(self, patience=3, min_delta=0.5):\n",
    "        self.patience = patience\n",
    "        self.min_delta = min_delta\n",
    "        self.counter = 0\n",
    "        self.max_validation_accuracy = 0\n",
    "\n",
    "    def early_stop(self, validation_accuracy):\n",
    "        if validation_accuracy > (self.max_validation_accuracy + self.min_delta):\n",
    "            self.max_validation_accuracy = validation_accuracy\n",
    "            self.counter = 0\n",
    "        else:\n",
    "            self.counter += 1\n",
    "            if self.counter >= self.patience:\n",
    "                return True\n",
    "        return False"
   ]
  },
  {
   "cell_type": "code",
   "execution_count": 6,
   "id": "b6ba0403",
   "metadata": {},
   "outputs": [],
   "source": [
    "def train(model, optimizer, dataloader, loss_fn=loss_fn):\n",
    "    running_loss_value = 0\n",
    "    for images, labels in dataloader:\n",
    "        optimizer.zero_grad()\n",
    "        images = images.to(device)\n",
    "        labels = labels.to(device)\n",
    "        outputs = model(images)\n",
    "        loss = loss_fn(outputs, labels)\n",
    "        running_loss_value += loss.item()\n",
    "        loss.backward()\n",
    "        optimizer.step()\n",
    "    return running_loss_value / len(dataloader)\n",
    "\n",
    "def test_eval(model, dataloader, loss_fn=loss_fn):\n",
    "    running_loss_value = 0\n",
    "    running_acc_value = 0\n",
    "    with torch.no_grad():\n",
    "        for images, labels in dataloader:\n",
    "            images = images.to(device)\n",
    "            labels = labels.to(device)\n",
    "            outputs = model(images)\n",
    "            loss = loss_fn(outputs, labels)\n",
    "            acc = acc_function(outputs, labels)\n",
    "            running_loss_value += loss.item()\n",
    "            running_acc_value += acc.item()\n",
    "    running_acc_value /= len(dataloader)\n",
    "    running_loss_value /= len(dataloader)\n",
    "    return running_acc_value*100, running_loss_value\n",
    "\n",
    "def train_eval_test(model, train_dataloader, val_dataloader, test_dataloader, no_epochs=10):\n",
    "    es = AccuracyEarlyStopper()\n",
    "    optimizer = torch.optim.Adam(model.parameters(), lr=learning_rate)\n",
    "    train_loss_arr, train_acc_arr, eval_loss_arr, eval_acc_arr = [], [], [], []\n",
    "    for i in range(no_epochs):\n",
    "        train_loss = train(model, optimizer, train_dataloader)\n",
    "        eval_acc, eval_loss = test_eval(model, val_dataloader)\n",
    "        print(f'Epoch {i+1} Train Loss: {train_loss:>8f}, Eval Accuracy: {eval_acc:>0.2f}%, Eval Loss: {eval_loss:>8f}')\n",
    "        train_loss_arr.append(train_loss)\n",
    "        eval_loss_arr.append(eval_loss)\n",
    "        eval_acc_arr.append(eval_acc)\n",
    "        if es.early_stop(eval_acc):\n",
    "            print('Early stopping activated')\n",
    "            break\n",
    "    test_acc, test_loss = test_eval(model, test_dataloader)\n",
    "    print(f\"Test Accuracy: {test_acc}, Test Loss: {test_loss}\")\n",
    "    return train_loss_arr, train_acc_arr, eval_loss_arr, eval_acc_arr, test_acc, test_loss"
   ]
  },
  {
   "cell_type": "code",
   "execution_count": 7,
   "id": "5ccac6cb",
   "metadata": {},
   "outputs": [],
   "source": [
    "def create_VGG_model():\n",
    "    model = models.vgg16_bn(weights=models.VGG16_BN_Weights.DEFAULT)\n",
    "    new_classifier_head = nn.Sequential(\n",
    "        nn.Linear(25088, 4096),\n",
    "        nn.ReLU(inplace=True),\n",
    "        nn.Dropout(0.5),\n",
    "        nn.Linear(4096, 4096),\n",
    "        nn.ReLU(inplace=True),\n",
    "        nn.Dropout(0.5),\n",
    "        nn.Linear(4096, 102)\n",
    "    )\n",
    "    \n",
    "    for param in model.parameters():\n",
    "        param.requires_grad = False\n",
    "        \n",
    "    model.classifier = new_classifier_head\n",
    "\n",
    "    return model.to(device=device)\n",
    "\n",
    "def create_resnet_model(size=50):\n",
    "    match size:\n",
    "        case 18:\n",
    "            model = models.resnet18(weights=models.ResNet18_Weights.DEFAULT)\n",
    "            new_fc = nn.Linear(512,102)\n",
    "        case 34:\n",
    "            model = models.resnet34(weights=models.ResNet34_Weights.DEFAULT)\n",
    "            new_fc = nn.Linear(512,102)\n",
    "        case 50:\n",
    "            model = models.resnet50(weights=models.ResNet50_Weights.DEFAULT)\n",
    "            new_fc = nn.Linear(2048, 102)\n",
    "        case 101:\n",
    "            model = models.resnet101(weights=models.ResNet101_Weights.DEFAULT)\n",
    "            new_fc = nn.Linear(2048,102)\n",
    "        case _:\n",
    "            print(\"Invalid Size, defaulting to 50\")\n",
    "            model = models.resnet50(weights=models.ResNet50_Weights.DEFAULT)\n",
    "            new_fc = nn.Linear(2048, 102)\n",
    "    \n",
    "    for param in model.parameters():\n",
    "        param.requires_grad = False\n",
    "        \n",
    "    model.fc = new_fc\n",
    "    \n",
    "    return model.to(device)\n",
    "\n",
    "def create_efficientnet_model(size):\n",
    "    match size:\n",
    "        case 's':\n",
    "            model = models.efficientnet_v2_s(weights=models.EfficientNet_V2_S_Weights.DEFAULT)\n",
    "        case 'm':\n",
    "            model = models.efficientnet_v2_m(weights=models.EfficientNet_V2_M_Weights.DEFAULT)\n",
    "        case 'l':\n",
    "            model = models.efficientnet_v2_l(weights=models.EfficientNet_V2_L_Weights.DEFAULT)\n",
    "        case _:\n",
    "            model = models.efficientnet_v2_m(weights=models.EfficientNet_V2_M_Weights.DEFAULT)\n",
    "\n",
    "\n",
    "\n",
    "    for param in model.parameters():\n",
    "        param.requires_grad = False\n",
    "        \n",
    "    new_classifier = nn.Sequential(\n",
    "        nn.Dropout(0.2),\n",
    "        nn.Linear(1280, 102)\n",
    "    )\n",
    "    \n",
    "    model.classifier = new_classifier\n",
    "    \n",
    "    return model.to(device)"
   ]
  },
  {
   "cell_type": "code",
   "execution_count": 8,
   "id": "e5945153",
   "metadata": {},
   "outputs": [],
   "source": [
    "# if os.path.isfile(PATH):\n",
    "#     #model.load_state_dict(torch.load(PATH))\n",
    "#     print(\"Model loaded\")\n",
    "train_data_loader, test_data_loader, val_data_loader = get_data_loader(batch_size)"
   ]
  },
  {
   "cell_type": "code",
   "execution_count": 10,
   "id": "79913434",
   "metadata": {},
   "outputs": [
    {
     "name": "stdout",
     "output_type": "stream",
     "text": [
      "VGG16\n",
      "Epoch 1 Train Loss: 4.871661, Eval Accuracy: 3.72%, Eval Loss: 4.544444\n",
      "Epoch 2 Train Loss: 4.502391, Eval Accuracy: 11.74%, Eval Loss: 4.134139\n",
      "Epoch 3 Train Loss: 3.933663, Eval Accuracy: 25.18%, Eval Loss: 3.229683\n",
      "Epoch 4 Train Loss: 3.061470, Eval Accuracy: 33.21%, Eval Loss: 2.567947\n",
      "Epoch 5 Train Loss: 2.485867, Eval Accuracy: 44.61%, Eval Loss: 1.989159\n",
      "Epoch 6 Train Loss: 1.976284, Eval Accuracy: 53.72%, Eval Loss: 1.663346\n",
      "Epoch 7 Train Loss: 1.571505, Eval Accuracy: 58.74%, Eval Loss: 1.499054\n",
      "Epoch 8 Train Loss: 1.442601, Eval Accuracy: 62.14%, Eval Loss: 1.342761\n",
      "Epoch 9 Train Loss: 1.252551, Eval Accuracy: 66.74%, Eval Loss: 1.191349\n",
      "Epoch 10 Train Loss: 1.189541, Eval Accuracy: 65.66%, Eval Loss: 1.224204\n",
      "Epoch 11 Train Loss: 1.019445, Eval Accuracy: 67.71%, Eval Loss: 1.207595\n",
      "Epoch 12 Train Loss: 0.947347, Eval Accuracy: 69.60%, Eval Loss: 1.153499\n",
      "Epoch 13 Train Loss: 0.978374, Eval Accuracy: 71.19%, Eval Loss: 1.038815\n",
      "Epoch 14 Train Loss: 0.904875, Eval Accuracy: 71.96%, Eval Loss: 1.095262\n",
      "Epoch 15 Train Loss: 0.872876, Eval Accuracy: 71.00%, Eval Loss: 1.152569\n",
      "Epoch 16 Train Loss: 0.843295, Eval Accuracy: 74.80%, Eval Loss: 0.982974\n",
      "Epoch 17 Train Loss: 0.798850, Eval Accuracy: 72.27%, Eval Loss: 1.097496\n",
      "Epoch 18 Train Loss: 0.772532, Eval Accuracy: 70.66%, Eval Loss: 1.101084\n",
      "Epoch 19 Train Loss: 0.782692, Eval Accuracy: 73.26%, Eval Loss: 1.078402\n",
      "Early stopping activated\n",
      "Test Accuracy: 71.74744897959184, Test Loss: 1.0859600488020449\n"
     ]
    }
   ],
   "source": [
    "VGG_model = create_VGG_model()\n",
    "print(\"VGG16\")\n",
    "VGG_train_acc, VGG_train_loss, VGG_eval_acc, VGG_eval_loss, VGG_test_acc, VGG_test_loss = train_eval_test(\n",
    "    VGG_model, \n",
    "    train_data_loader, \n",
    "    val_data_loader, \n",
    "    test_data_loader,\n",
    "    no_epochs=no_epochs\n",
    ")"
   ]
  },
  {
   "cell_type": "code",
   "execution_count": 11,
   "id": "4bcdf58a",
   "metadata": {},
   "outputs": [],
   "source": [
    "#torch.save(model.state_dict(), PATH)"
   ]
  },
  {
   "cell_type": "code",
   "execution_count": 9,
   "id": "3a71828f",
   "metadata": {},
   "outputs": [
    {
     "name": "stdout",
     "output_type": "stream",
     "text": [
      "RESNET\n",
      "Epoch 1 Train Loss: 4.797734, Eval Accuracy: 5.00%, Eval Loss: 4.390567\n",
      "Epoch 2 Train Loss: 4.272619, Eval Accuracy: 16.95%, Eval Loss: 3.992445\n",
      "Epoch 3 Train Loss: 3.797032, Eval Accuracy: 38.72%, Eval Loss: 3.572695\n",
      "Epoch 4 Train Loss: 3.413130, Eval Accuracy: 48.23%, Eval Loss: 3.225145\n",
      "Epoch 5 Train Loss: 3.082503, Eval Accuracy: 60.28%, Eval Loss: 2.891474\n",
      "Epoch 6 Train Loss: 2.786082, Eval Accuracy: 63.13%, Eval Loss: 2.612772\n",
      "Epoch 7 Train Loss: 2.471209, Eval Accuracy: 68.34%, Eval Loss: 2.348552\n",
      "Epoch 8 Train Loss: 2.263146, Eval Accuracy: 72.36%, Eval Loss: 2.148288\n",
      "Epoch 9 Train Loss: 2.031713, Eval Accuracy: 74.60%, Eval Loss: 1.964003\n",
      "Epoch 10 Train Loss: 1.826465, Eval Accuracy: 76.68%, Eval Loss: 1.803335\n",
      "Epoch 11 Train Loss: 1.690033, Eval Accuracy: 79.13%, Eval Loss: 1.673186\n",
      "Epoch 12 Train Loss: 1.551838, Eval Accuracy: 79.33%, Eval Loss: 1.557030\n",
      "Epoch 13 Train Loss: 1.439185, Eval Accuracy: 80.70%, Eval Loss: 1.466376\n",
      "Epoch 14 Train Loss: 1.340897, Eval Accuracy: 81.77%, Eval Loss: 1.367793\n",
      "Epoch 15 Train Loss: 1.289010, Eval Accuracy: 81.85%, Eval Loss: 1.301537\n",
      "Epoch 16 Train Loss: 1.176573, Eval Accuracy: 82.26%, Eval Loss: 1.242958\n",
      "Epoch 17 Train Loss: 1.094408, Eval Accuracy: 82.93%, Eval Loss: 1.186973\n",
      "Epoch 18 Train Loss: 1.050420, Eval Accuracy: 84.12%, Eval Loss: 1.134395\n",
      "Epoch 19 Train Loss: 1.006292, Eval Accuracy: 83.61%, Eval Loss: 1.088725\n",
      "Epoch 20 Train Loss: 0.976213, Eval Accuracy: 84.21%, Eval Loss: 1.052777\n",
      "Epoch 21 Train Loss: 0.866564, Eval Accuracy: 84.70%, Eval Loss: 1.016335\n",
      "Epoch 22 Train Loss: 0.858723, Eval Accuracy: 84.61%, Eval Loss: 0.991750\n",
      "Epoch 23 Train Loss: 0.821606, Eval Accuracy: 84.41%, Eval Loss: 0.960006\n",
      "Epoch 24 Train Loss: 0.795260, Eval Accuracy: 85.40%, Eval Loss: 0.922374\n",
      "Epoch 25 Train Loss: 0.750099, Eval Accuracy: 84.23%, Eval Loss: 0.906481\n",
      "Epoch 26 Train Loss: 0.711727, Eval Accuracy: 85.22%, Eval Loss: 0.881282\n",
      "Epoch 27 Train Loss: 0.722342, Eval Accuracy: 84.91%, Eval Loss: 0.861740\n",
      "Early stopping activated\n",
      "Test Accuracy: 82.03443878767442, Test Loss: 0.9814949619526766\n"
     ]
    }
   ],
   "source": [
    "ResNet_18_model = create_resnet_model(18)\n",
    "print(\"RESNET\")\n",
    "ResNet_train_acc, ResNet_rain_loss, ResNet_eval_acc, ResNet_eval_loss, ResNet_test_acc, ResNet_test_loss = train_eval_test(\n",
    "    ResNet_18_model, \n",
    "    train_data_loader, \n",
    "    val_data_loader, \n",
    "    test_data_loader,\n",
    "    no_epochs=no_epochs\n",
    ")"
   ]
  },
  {
   "cell_type": "code",
   "execution_count": 10,
   "id": "2bf73b3d",
   "metadata": {},
   "outputs": [
    {
     "name": "stdout",
     "output_type": "stream",
     "text": [
      "RESNET\n",
      "Epoch 1 Train Loss: 4.755768, Eval Accuracy: 5.89%, Eval Loss: 4.391149\n",
      "Epoch 2 Train Loss: 4.207667, Eval Accuracy: 17.92%, Eval Loss: 3.973718\n",
      "Epoch 3 Train Loss: 3.766797, Eval Accuracy: 34.98%, Eval Loss: 3.561058\n",
      "Epoch 4 Train Loss: 3.392065, Eval Accuracy: 46.58%, Eval Loss: 3.197053\n",
      "Epoch 5 Train Loss: 3.011557, Eval Accuracy: 56.76%, Eval Loss: 2.861568\n",
      "Epoch 6 Train Loss: 2.699158, Eval Accuracy: 63.63%, Eval Loss: 2.573285\n",
      "Epoch 7 Train Loss: 2.389217, Eval Accuracy: 68.34%, Eval Loss: 2.318256\n",
      "Epoch 8 Train Loss: 2.185876, Eval Accuracy: 70.68%, Eval Loss: 2.108436\n",
      "Epoch 9 Train Loss: 1.967856, Eval Accuracy: 72.93%, Eval Loss: 1.931408\n",
      "Epoch 10 Train Loss: 1.792846, Eval Accuracy: 76.36%, Eval Loss: 1.758007\n",
      "Epoch 11 Train Loss: 1.671864, Eval Accuracy: 76.86%, Eval Loss: 1.626065\n",
      "Epoch 12 Train Loss: 1.476047, Eval Accuracy: 79.01%, Eval Loss: 1.515631\n",
      "Epoch 13 Train Loss: 1.400540, Eval Accuracy: 80.00%, Eval Loss: 1.415168\n",
      "Epoch 14 Train Loss: 1.231968, Eval Accuracy: 80.60%, Eval Loss: 1.333602\n",
      "Epoch 15 Train Loss: 1.217093, Eval Accuracy: 81.11%, Eval Loss: 1.267981\n",
      "Epoch 16 Train Loss: 1.105932, Eval Accuracy: 82.07%, Eval Loss: 1.205913\n",
      "Epoch 17 Train Loss: 1.025589, Eval Accuracy: 81.86%, Eval Loss: 1.152403\n",
      "Epoch 18 Train Loss: 0.971392, Eval Accuracy: 82.75%, Eval Loss: 1.094517\n",
      "Epoch 19 Train Loss: 0.925016, Eval Accuracy: 83.05%, Eval Loss: 1.050425\n",
      "Epoch 20 Train Loss: 0.949320, Eval Accuracy: 84.51%, Eval Loss: 1.018263\n",
      "Epoch 21 Train Loss: 0.852211, Eval Accuracy: 83.94%, Eval Loss: 0.990012\n",
      "Epoch 22 Train Loss: 0.849080, Eval Accuracy: 84.19%, Eval Loss: 0.949189\n",
      "Epoch 23 Train Loss: 0.797907, Eval Accuracy: 84.19%, Eval Loss: 0.922020\n",
      "Early stopping activated\n",
      "Test Accuracy: 81.2946429057997, Test Loss: 1.0492228537189716\n"
     ]
    }
   ],
   "source": [
    "ResNet_34_model = create_resnet_model(34)\n",
    "print(\"RESNET\")\n",
    "ResNet_train_acc, ResNet_rain_loss, ResNet_eval_acc, ResNet_eval_loss, ResNet_test_acc, ResNet_test_loss = train_eval_test(\n",
    "    ResNet_34_model, \n",
    "    train_data_loader, \n",
    "    val_data_loader, \n",
    "    test_data_loader,\n",
    "    no_epochs=no_epochs\n",
    ")"
   ]
  },
  {
   "cell_type": "code",
   "execution_count": null,
   "id": "3e1cd5a9",
   "metadata": {},
   "outputs": [
    {
     "name": "stdout",
     "output_type": "stream",
     "text": [
      "RESNET\n",
      "Epoch 1 Train Loss: 4.546194, Eval Accuracy: 21.66%, Eval Loss: 4.288802\n",
      "Epoch 2 Train Loss: 4.143304, Eval Accuracy: 52.27%, Eval Loss: 3.952171\n",
      "Epoch 3 Train Loss: 3.804565, Eval Accuracy: 67.47%, Eval Loss: 3.646060\n",
      "Epoch 4 Train Loss: 3.468051, Eval Accuracy: 74.03%, Eval Loss: 3.366712\n",
      "Epoch 5 Train Loss: 3.179319, Eval Accuracy: 77.35%, Eval Loss: 3.089919\n"
     ]
    }
   ],
   "source": [
    "ResNet_50_model = create_resnet_model(50)\n",
    "print(\"RESNET\")\n",
    "ResNet_train_acc, ResNet_rain_loss, ResNet_eval_acc, ResNet_eval_loss, ResNet_test_acc, ResNet_test_loss = train_eval_test(\n",
    "    ResNet_50_model, \n",
    "    train_data_loader, \n",
    "    val_data_loader, \n",
    "    test_data_loader,\n",
    "    no_epochs=no_epochs\n",
    ")"
   ]
  },
  {
   "cell_type": "code",
   "execution_count": 14,
   "id": "683605f7",
   "metadata": {},
   "outputs": [
    {
     "name": "stderr",
     "output_type": "stream",
     "text": [
      "Downloading: \"https://download.pytorch.org/models/resnet101-cd907fc2.pth\" to /home/UG/chan0965/.cache/torch/hub/checkpoints/resnet101-cd907fc2.pth\n",
      "55.2%IOPub message rate exceeded.\n",
      "The notebook server will temporarily stop sending output\n",
      "to the client in order to avoid crashing it.\n",
      "To change this limit, set the config variable\n",
      "`--NotebookApp.iopub_msg_rate_limit`.\n",
      "\n",
      "Current values:\n",
      "NotebookApp.iopub_msg_rate_limit=1000.0 (msgs/sec)\n",
      "NotebookApp.rate_limit_window=3.0 (secs)\n",
      "\n",
      "73.9%IOPub message rate exceeded.\n",
      "The notebook server will temporarily stop sending output\n",
      "to the client in order to avoid crashing it.\n",
      "To change this limit, set the config variable\n",
      "`--NotebookApp.iopub_msg_rate_limit`.\n",
      "\n",
      "Current values:\n",
      "NotebookApp.iopub_msg_rate_limit=1000.0 (msgs/sec)\n",
      "NotebookApp.rate_limit_window=3.0 (secs)\n",
      "\n",
      "95.2%IOPub message rate exceeded.\n",
      "The notebook server will temporarily stop sending output\n",
      "to the client in order to avoid crashing it.\n",
      "To change this limit, set the config variable\n",
      "`--NotebookApp.iopub_msg_rate_limit`.\n",
      "\n",
      "Current values:\n",
      "NotebookApp.iopub_msg_rate_limit=1000.0 (msgs/sec)\n",
      "NotebookApp.rate_limit_window=3.0 (secs)\n",
      "\n"
     ]
    },
    {
     "name": "stdout",
     "output_type": "stream",
     "text": [
      "Epoch 1 Train Loss: 4.570124, Eval Accuracy: 15.90%, Eval Loss: 4.236614\n",
      "Epoch 2 Train Loss: 4.050102, Eval Accuracy: 36.78%, Eval Loss: 3.826074\n",
      "Epoch 3 Train Loss: 3.615210, Eval Accuracy: 56.20%, Eval Loss: 3.442326\n",
      "Epoch 4 Train Loss: 3.249373, Eval Accuracy: 66.86%, Eval Loss: 3.101753\n",
      "Epoch 5 Train Loss: 2.893960, Eval Accuracy: 71.15%, Eval Loss: 2.800291\n",
      "Epoch 6 Train Loss: 2.601976, Eval Accuracy: 74.30%, Eval Loss: 2.538348\n",
      "Epoch 7 Train Loss: 2.306975, Eval Accuracy: 74.81%, Eval Loss: 2.311848\n",
      "Epoch 8 Train Loss: 2.035474, Eval Accuracy: 75.48%, Eval Loss: 2.136037\n",
      "Epoch 9 Train Loss: 1.874005, Eval Accuracy: 76.68%, Eval Loss: 1.961802\n",
      "Epoch 10 Train Loss: 1.667907, Eval Accuracy: 78.43%, Eval Loss: 1.811005\n",
      "Epoch 11 Train Loss: 1.530197, Eval Accuracy: 78.63%, Eval Loss: 1.690355\n",
      "Epoch 12 Train Loss: 1.412507, Eval Accuracy: 78.86%, Eval Loss: 1.590276\n",
      "Epoch 13 Train Loss: 1.251828, Eval Accuracy: 79.91%, Eval Loss: 1.503392\n",
      "Epoch 14 Train Loss: 1.217869, Eval Accuracy: 80.99%, Eval Loss: 1.426245\n",
      "Epoch 15 Train Loss: 1.097769, Eval Accuracy: 82.09%, Eval Loss: 1.351450\n",
      "Epoch 16 Train Loss: 1.046281, Eval Accuracy: 82.05%, Eval Loss: 1.293553\n",
      "Epoch 17 Train Loss: 0.962679, Eval Accuracy: 81.76%, Eval Loss: 1.241595\n",
      "Epoch 18 Train Loss: 0.951586, Eval Accuracy: 82.33%, Eval Loss: 1.208170\n",
      "Early stopping activated\n",
      "Test Accuracy: 76.99617348155196, Test Loss: 1.3838082016730795\n"
     ]
    }
   ],
   "source": [
    "ResNet_101_model = create_resnet_model(101)\n",
    "print(\"RESNET\")\n",
    "ResNet_train_acc, ResNet_rain_loss, ResNet_eval_acc, ResNet_eval_loss, ResNet_test_acc, ResNet_test_loss = train_eval_test(\n",
    "    ResNet_101_model, \n",
    "    train_data_loader, \n",
    "    val_data_loader, \n",
    "    test_data_loader,\n",
    "    no_epochs=no_epochs\n",
    ")"
   ]
  },
  {
   "cell_type": "code",
   "execution_count": 15,
   "id": "e58bada3",
   "metadata": {},
   "outputs": [
    {
     "name": "stdout",
     "output_type": "stream",
     "text": [
      "EFFICIENTNET\n",
      "Epoch 1 Train Loss: 4.574721, Eval Accuracy: 12.42%, Eval Loss: 4.353661\n",
      "Epoch 2 Train Loss: 4.185564, Eval Accuracy: 33.15%, Eval Loss: 4.031021\n",
      "Epoch 3 Train Loss: 3.860585, Eval Accuracy: 46.29%, Eval Loss: 3.739001\n",
      "Epoch 4 Train Loss: 3.542766, Eval Accuracy: 53.71%, Eval Loss: 3.490047\n",
      "Epoch 5 Train Loss: 3.278103, Eval Accuracy: 59.00%, Eval Loss: 3.235458\n",
      "Epoch 6 Train Loss: 3.031440, Eval Accuracy: 62.44%, Eval Loss: 3.006856\n",
      "Epoch 7 Train Loss: 2.782584, Eval Accuracy: 66.27%, Eval Loss: 2.804595\n",
      "Epoch 8 Train Loss: 2.568160, Eval Accuracy: 68.70%, Eval Loss: 2.628160\n",
      "Epoch 9 Train Loss: 2.379220, Eval Accuracy: 68.03%, Eval Loss: 2.468820\n",
      "Epoch 10 Train Loss: 2.258689, Eval Accuracy: 69.42%, Eval Loss: 2.334562\n",
      "Epoch 11 Train Loss: 2.072847, Eval Accuracy: 71.96%, Eval Loss: 2.208270\n",
      "Epoch 12 Train Loss: 1.962521, Eval Accuracy: 72.17%, Eval Loss: 2.104919\n",
      "Epoch 13 Train Loss: 1.806893, Eval Accuracy: 72.62%, Eval Loss: 2.006330\n",
      "Epoch 14 Train Loss: 1.714660, Eval Accuracy: 72.95%, Eval Loss: 1.911277\n",
      "Epoch 15 Train Loss: 1.620385, Eval Accuracy: 72.24%, Eval Loss: 1.833588\n",
      "Epoch 16 Train Loss: 1.562858, Eval Accuracy: 75.09%, Eval Loss: 1.732639\n",
      "Epoch 17 Train Loss: 1.446059, Eval Accuracy: 74.81%, Eval Loss: 1.681686\n",
      "Epoch 18 Train Loss: 1.369496, Eval Accuracy: 76.19%, Eval Loss: 1.634344\n",
      "Epoch 19 Train Loss: 1.307922, Eval Accuracy: 74.30%, Eval Loss: 1.606892\n",
      "Epoch 20 Train Loss: 1.324882, Eval Accuracy: 76.28%, Eval Loss: 1.523474\n",
      "Epoch 21 Train Loss: 1.238484, Eval Accuracy: 74.92%, Eval Loss: 1.514025\n",
      "Early stopping activated\n",
      "Test Accuracy: 70.66007657926909, Test Loss: 1.6521702420954802\n"
     ]
    }
   ],
   "source": [
    "efficientnet_s_model = create_efficientnet_model('s')\n",
    "\n",
    "print(\"EFFICIENTNET\")\n",
    "\n",
    "EN_train_acc, EN_rain_loss, EN_eval_acc, EN_eval_loss, EN_test_acc, EN_test_loss = train_eval_test(\n",
    "    efficientnet_s_model, \n",
    "    train_data_loader, \n",
    "    val_data_loader, \n",
    "    test_data_loader,\n",
    "    no_epochs=no_epochs\n",
    ")"
   ]
  },
  {
   "cell_type": "code",
   "execution_count": 16,
   "id": "36e18ef8",
   "metadata": {},
   "outputs": [
    {
     "name": "stdout",
     "output_type": "stream",
     "text": [
      "EFFICIENTNET\n",
      "Epoch 1 Train Loss: 4.611644, Eval Accuracy: 7.65%, Eval Loss: 4.419560\n",
      "Epoch 2 Train Loss: 4.293189, Eval Accuracy: 23.92%, Eval Loss: 4.170458\n",
      "Epoch 3 Train Loss: 4.053287, Eval Accuracy: 31.60%, Eval Loss: 3.978391\n",
      "Epoch 4 Train Loss: 3.802157, Eval Accuracy: 44.62%, Eval Loss: 3.749610\n",
      "Epoch 5 Train Loss: 3.574698, Eval Accuracy: 48.72%, Eval Loss: 3.571569\n",
      "Epoch 6 Train Loss: 3.369551, Eval Accuracy: 47.59%, Eval Loss: 3.400626\n",
      "Epoch 7 Train Loss: 3.186699, Eval Accuracy: 49.02%, Eval Loss: 3.251072\n",
      "Epoch 8 Train Loss: 2.999997, Eval Accuracy: 54.34%, Eval Loss: 3.101571\n",
      "Epoch 9 Train Loss: 2.876097, Eval Accuracy: 55.20%, Eval Loss: 2.959369\n",
      "Epoch 10 Train Loss: 2.668106, Eval Accuracy: 55.37%, Eval Loss: 2.853476\n",
      "Epoch 11 Train Loss: 2.588547, Eval Accuracy: 58.12%, Eval Loss: 2.717815\n",
      "Epoch 12 Train Loss: 2.405632, Eval Accuracy: 57.84%, Eval Loss: 2.642203\n",
      "Epoch 13 Train Loss: 2.324905, Eval Accuracy: 59.61%, Eval Loss: 2.546059\n",
      "Epoch 14 Train Loss: 2.254833, Eval Accuracy: 58.64%, Eval Loss: 2.435055\n",
      "Epoch 15 Train Loss: 2.169088, Eval Accuracy: 60.69%, Eval Loss: 2.383972\n",
      "Epoch 16 Train Loss: 2.049722, Eval Accuracy: 60.38%, Eval Loss: 2.306924\n",
      "Epoch 17 Train Loss: 1.939108, Eval Accuracy: 61.49%, Eval Loss: 2.217648\n",
      "Epoch 18 Train Loss: 1.858052, Eval Accuracy: 60.98%, Eval Loss: 2.202865\n",
      "Epoch 19 Train Loss: 1.779726, Eval Accuracy: 65.00%, Eval Loss: 2.086014\n",
      "Epoch 20 Train Loss: 1.849490, Eval Accuracy: 61.85%, Eval Loss: 2.103194\n",
      "Epoch 21 Train Loss: 1.691082, Eval Accuracy: 64.68%, Eval Loss: 1.989034\n",
      "Epoch 22 Train Loss: 1.692181, Eval Accuracy: 64.50%, Eval Loss: 1.958882\n",
      "Early stopping activated\n",
      "Test Accuracy: 58.73086735302088, Test Loss: 2.1363930799523176\n"
     ]
    }
   ],
   "source": [
    "efficientnet_m_model = create_efficientnet_model('m')\n",
    "\n",
    "print(\"EFFICIENTNET\")\n",
    "\n",
    "EN_train_acc, EN_rain_loss, EN_eval_acc, EN_eval_loss, EN_test_acc, EN_test_loss = train_eval_test(\n",
    "    efficientnet_m_model, \n",
    "    train_data_loader, \n",
    "    val_data_loader, \n",
    "    test_data_loader,\n",
    "    no_epochs=no_epochs\n",
    ")"
   ]
  },
  {
   "cell_type": "code",
   "execution_count": 17,
   "id": "0ab28c32",
   "metadata": {},
   "outputs": [
    {
     "name": "stdout",
     "output_type": "stream",
     "text": [
      "EFFICIENTNET\n",
      "Epoch 1 Train Loss: 4.590027, Eval Accuracy: 15.59%, Eval Loss: 4.096957\n",
      "Epoch 2 Train Loss: 3.842896, Eval Accuracy: 39.08%, Eval Loss: 3.421711\n",
      "Epoch 3 Train Loss: 3.141942, Eval Accuracy: 63.46%, Eval Loss: 2.797723\n",
      "Epoch 4 Train Loss: 2.599770, Eval Accuracy: 70.60%, Eval Loss: 2.338389\n",
      "Epoch 5 Train Loss: 2.141581, Eval Accuracy: 76.46%, Eval Loss: 1.960250\n",
      "Epoch 6 Train Loss: 1.845971, Eval Accuracy: 79.10%, Eval Loss: 1.681222\n",
      "Epoch 7 Train Loss: 1.584890, Eval Accuracy: 83.33%, Eval Loss: 1.475755\n",
      "Epoch 8 Train Loss: 1.366856, Eval Accuracy: 83.62%, Eval Loss: 1.310721\n",
      "Epoch 9 Train Loss: 1.229933, Eval Accuracy: 84.31%, Eval Loss: 1.166734\n",
      "Epoch 10 Train Loss: 1.117605, Eval Accuracy: 85.98%, Eval Loss: 1.079130\n",
      "Epoch 11 Train Loss: 0.930863, Eval Accuracy: 86.49%, Eval Loss: 0.985865\n",
      "Epoch 12 Train Loss: 0.943139, Eval Accuracy: 87.25%, Eval Loss: 0.923959\n",
      "Epoch 13 Train Loss: 0.872363, Eval Accuracy: 89.13%, Eval Loss: 0.862135\n",
      "Epoch 14 Train Loss: 0.771146, Eval Accuracy: 89.11%, Eval Loss: 0.824118\n",
      "Epoch 15 Train Loss: 0.738638, Eval Accuracy: 88.34%, Eval Loss: 0.791598\n",
      "Epoch 16 Train Loss: 0.695821, Eval Accuracy: 88.33%, Eval Loss: 0.746908\n",
      "Early stopping activated\n",
      "Test Accuracy: 85.92155612244898, Test Loss: 0.8923323203106316\n"
     ]
    }
   ],
   "source": [
    "efficientnet_l_model = create_efficientnet_model('l')\n",
    "\n",
    "print(\"EFFICIENTNET\")\n",
    "\n",
    "EN_train_acc, EN_rain_loss, EN_eval_acc, EN_eval_loss, EN_test_acc, EN_test_loss = train_eval_test(\n",
    "    efficientnet_l_model, \n",
    "    train_data_loader, \n",
    "    val_data_loader, \n",
    "    test_data_loader,\n",
    "    no_epochs=no_epochs\n",
    ")"
   ]
  },
  {
   "cell_type": "code",
   "execution_count": null,
   "id": "c67e0b9a",
   "metadata": {},
   "outputs": [],
   "source": []
  }
 ],
 "metadata": {
  "kernelspec": {
   "display_name": "Python 3 (ipykernel)",
   "language": "python",
   "name": "python3"
  },
  "language_info": {
   "codemirror_mode": {
    "name": "ipython",
    "version": 3
   },
   "file_extension": ".py",
   "mimetype": "text/x-python",
   "name": "python",
   "nbconvert_exporter": "python",
   "pygments_lexer": "ipython3",
   "version": "3.10.13"
  }
 },
 "nbformat": 4,
 "nbformat_minor": 5
}
