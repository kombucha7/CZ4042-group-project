{
 "cells": [
  {
   "cell_type": "code",
   "execution_count": 1,
   "id": "initial_id",
   "metadata": {},
   "outputs": [],
   "source": [
    "import torch\n",
    "import torch.nn as nn\n",
    "from torchvision import models\n",
    "from torchvision import datasets\n",
    "from torchvision import transforms\n",
    "from torchvision.transforms import v2\n",
    "from torchmetrics.classification import MulticlassAccuracy\n",
    "import numpy as np\n",
    "import pandas as pd\n",
    "import matplotlib.pyplot as plt\n",
    "import datetime"
   ]
  },
  {
   "cell_type": "code",
   "execution_count": 2,
   "id": "608d8d71",
   "metadata": {},
   "outputs": [
    {
     "name": "stdout",
     "output_type": "stream",
     "text": [
      "cuda:0\n"
     ]
    }
   ],
   "source": [
    "no_epochs = 50\n",
    "learning_rate = 0.001\n",
    "batch_size = 128\n",
    "\n",
    "device = torch.device(\"cuda:0\" if torch.cuda.is_available() else \"cpu\")\n",
    "print(device)\n",
    "\n",
    "acc_function = MulticlassAccuracy(num_classes=102, average='micro').to(device)\n",
    "loss_fn = nn.CrossEntropyLoss().to(device)\n",
    "\n",
    "SEED = 42\n",
    "np.random.seed(SEED)\n",
    "gen = torch.manual_seed(SEED)"
   ]
  },
  {
   "cell_type": "code",
   "execution_count": 3,
   "id": "34c123e1",
   "metadata": {},
   "outputs": [],
   "source": [
    "# Data Augmentation\n",
    "train_transforms = v2.Compose([\n",
    "    v2.RandomRotation(30),\n",
    "    v2.RandomResizedCrop(224),\n",
    "    v2.RandomHorizontalFlip(),\n",
    "    v2.ToImage(), \n",
    "    v2.ToDtype(torch.float32, scale=True),\n",
    "    v2.Normalize([0.485, 0.456, 0.406], [0.229, 0.224, 0.225])\n",
    "])\n",
    "\n",
    "default_transforms = v2.Compose([\n",
    "    models.VGG16_BN_Weights.IMAGENET1K_V1.transforms()\n",
    "])\n",
    "\n",
    "flowers_train = datasets.Flowers102(root='./data', split='train', download=True, transform=train_transforms)\n",
    "flowers_test = datasets.Flowers102(root='./data', split='test', download=True, transform=default_transforms)\n",
    "flowers_val = datasets.Flowers102(root='./data', split='val', download=True, transform=default_transforms)\n"
   ]
  },
  {
   "cell_type": "code",
   "execution_count": 4,
   "id": "1a6eda9f",
   "metadata": {},
   "outputs": [],
   "source": [
    "def get_data_loader(batch_size):\n",
    "    train_loader = torch.utils.data.DataLoader(flowers_train, batch_size=batch_size, shuffle=True, generator=gen)\n",
    "    test_loader = torch.utils.data.DataLoader(flowers_test, batch_size=batch_size, shuffle=True, generator=gen)\n",
    "    val_loader = torch.utils.data.DataLoader(flowers_val, batch_size=batch_size, shuffle=True, generator=gen)\n",
    "    return train_loader, test_loader, val_loader"
   ]
  },
  {
   "cell_type": "code",
   "execution_count": 5,
   "id": "bdcdb8bd",
   "metadata": {},
   "outputs": [],
   "source": [
    "# Early stopping based on accuracy\n",
    "class AccuracyEarlyStopper:\n",
    "    def __init__(self, patience=3, min_delta=0.5):\n",
    "        self.patience = patience\n",
    "        self.min_delta = min_delta\n",
    "        self.counter = 0\n",
    "        self.max_validation_accuracy = 0\n",
    "\n",
    "    def early_stop(self, validation_accuracy):\n",
    "        if validation_accuracy > (self.max_validation_accuracy + self.min_delta):\n",
    "            self.max_validation_accuracy = validation_accuracy\n",
    "            self.counter = 0\n",
    "        else:\n",
    "            self.counter += 1\n",
    "            if self.counter >= self.patience:\n",
    "                return True\n",
    "        return False"
   ]
  },
  {
   "cell_type": "code",
   "execution_count": 6,
   "id": "b6ba0403",
   "metadata": {},
   "outputs": [],
   "source": [
    "def train(model, optimizer, dataloader, loss_fn=loss_fn):\n",
    "    running_loss_value = 0\n",
    "    for images, labels in dataloader:\n",
    "        optimizer.zero_grad()\n",
    "        images = images.to(device)\n",
    "        labels = labels.to(device)\n",
    "        outputs = model(images)\n",
    "        loss = loss_fn(outputs, labels)\n",
    "        running_loss_value += loss.item()\n",
    "        loss.backward()\n",
    "        optimizer.step()\n",
    "    return running_loss_value / len(dataloader)\n",
    "\n",
    "def test_eval(model, dataloader, loss_fn=loss_fn):\n",
    "    running_loss_value = 0\n",
    "    running_acc_value = 0\n",
    "    with torch.no_grad():\n",
    "        for images, labels in dataloader:\n",
    "            images = images.to(device)\n",
    "            labels = labels.to(device)\n",
    "            outputs = model(images)\n",
    "            loss = loss_fn(outputs, labels)\n",
    "            acc = acc_function(outputs, labels)\n",
    "            running_loss_value += loss.item()\n",
    "            running_acc_value += acc.item()\n",
    "    running_acc_value /= len(dataloader)\n",
    "    running_loss_value /= len(dataloader)\n",
    "    return running_acc_value*100, running_loss_value\n",
    "\n",
    "def train_eval_test(model, train_dataloader, val_dataloader, test_dataloader, no_epochs=10):\n",
    "    es = AccuracyEarlyStopper()\n",
    "    optimizer = torch.optim.Adam(model.parameters(), lr=learning_rate)\n",
    "    train_loss_arr, train_acc_arr, eval_loss_arr, eval_acc_arr, training_time = [], [], [], [], []\n",
    "    for i in range(no_epochs):\n",
    "        start = datetime.datetime.now()\n",
    "        train_loss = train(model, optimizer, train_dataloader)\n",
    "        end = datetime.datetime.now()\n",
    "        time_taken = (end - start).total_seconds()\n",
    "        eval_acc, eval_loss = test_eval(model, val_dataloader)\n",
    "        print(f'Epoch {i+1} Train Loss: {train_loss:>8f}, Eval Accuracy: {eval_acc:>0.2f}%, Eval Loss: {eval_loss:>8f}, Time Taken: {time_taken:>0.2f}s')\n",
    "        train_loss_arr.append(train_loss)\n",
    "        eval_loss_arr.append(eval_loss)\n",
    "        eval_acc_arr.append(eval_acc)\n",
    "        training_time.append(time_taken)\n",
    "        if es.early_stop(eval_acc):\n",
    "            print('Early stopping activated')\n",
    "            break\n",
    "    test_acc, test_loss = test_eval(model, test_dataloader)\n",
    "    print(f\"Test Accuracy: {test_acc}, Test Loss: {test_loss}\")\n",
    "    return train_loss_arr, train_acc_arr, eval_loss_arr, eval_acc_arr, test_acc, test_loss, training_time"
   ]
  },
  {
   "cell_type": "code",
   "execution_count": 7,
   "id": "5ccac6cb",
   "metadata": {},
   "outputs": [],
   "source": [
    "def create_VGG_model():\n",
    "    model = models.vgg16_bn(weights=models.VGG16_BN_Weights.DEFAULT)\n",
    "    new_classifier_head = nn.Sequential(\n",
    "        nn.Linear(25088, 4096),\n",
    "        nn.ReLU(inplace=True),\n",
    "        nn.Dropout(0.5),\n",
    "        nn.Linear(4096, 4096),\n",
    "        nn.ReLU(inplace=True),\n",
    "        nn.Dropout(0.5),\n",
    "        nn.Linear(4096, 102)\n",
    "    )\n",
    "    \n",
    "    for param in model.parameters():\n",
    "        param.requires_grad = False\n",
    "        \n",
    "    model.classifier = new_classifier_head\n",
    "\n",
    "    return model.to(device=device)\n",
    "\n",
    "def create_resnet_model(size=50):\n",
    "    match size:\n",
    "        case 18:\n",
    "            model = models.resnet18(weights=models.ResNet18_Weights.DEFAULT)\n",
    "            new_fc = nn.Linear(512,102)\n",
    "        case 34:\n",
    "            model = models.resnet34(weights=models.ResNet34_Weights.DEFAULT)\n",
    "            new_fc = nn.Linear(512,102)\n",
    "        case 50:\n",
    "            model = models.resnet50(weights=models.ResNet50_Weights.DEFAULT)\n",
    "            new_fc = nn.Linear(2048, 102)\n",
    "        case 101:\n",
    "            model = models.resnet101(weights=models.ResNet101_Weights.DEFAULT)\n",
    "            new_fc = nn.Linear(2048,102)\n",
    "        case _:\n",
    "            print(\"Invalid Size, defaulting to 50\")\n",
    "            model = models.resnet50(weights=models.ResNet50_Weights.DEFAULT)\n",
    "            new_fc = nn.Linear(2048, 102)\n",
    "    \n",
    "    for param in model.parameters():\n",
    "        param.requires_grad = False\n",
    "        \n",
    "    model.fc = new_fc\n",
    "    \n",
    "    return model.to(device)\n",
    "\n",
    "def create_efficientnet_model(size):\n",
    "    match size:\n",
    "        case 's':\n",
    "            model = models.efficientnet_v2_s(weights=models.EfficientNet_V2_S_Weights.DEFAULT)\n",
    "        case 'm':\n",
    "            model = models.efficientnet_v2_m(weights=models.EfficientNet_V2_M_Weights.DEFAULT)\n",
    "        case 'l':\n",
    "            model = models.efficientnet_v2_l(weights=models.EfficientNet_V2_L_Weights.DEFAULT)\n",
    "        case _:\n",
    "            model = models.efficientnet_v2_m(weights=models.EfficientNet_V2_M_Weights.DEFAULT)\n",
    "\n",
    "\n",
    "\n",
    "    for param in model.parameters():\n",
    "        param.requires_grad = False\n",
    "        \n",
    "    new_classifier = nn.Sequential(\n",
    "        nn.Dropout(0.2),\n",
    "        nn.Linear(1280, 102)\n",
    "    )\n",
    "    \n",
    "    model.classifier = new_classifier\n",
    "    \n",
    "    return model.to(device)"
   ]
  },
  {
   "cell_type": "code",
   "execution_count": 8,
   "id": "e5945153",
   "metadata": {},
   "outputs": [],
   "source": [
    "train_data_loader, test_data_loader, val_data_loader = get_data_loader(batch_size)"
   ]
  },
  {
   "cell_type": "code",
   "execution_count": 9,
   "id": "79913434",
   "metadata": {},
   "outputs": [
    {
     "name": "stdout",
     "output_type": "stream",
     "text": [
      "VGG16\n",
      "Epoch 1 Train Loss: 4.900608, Eval Accuracy: 4.91%, Eval Loss: 4.539280, Time Taken: 13.16s\n",
      "Epoch 2 Train Loss: 4.481932, Eval Accuracy: 14.60%, Eval Loss: 4.052787, Time Taken: 10.80s\n",
      "Test Accuracy: 11.36798469387755, Test Loss: 4.145599637712751\n"
     ]
    }
   ],
   "source": [
    "VGG_model = create_VGG_model()\n",
    "print(\"VGG16\")\n",
    "VGG_train_acc, VGG_train_loss, VGG_eval_acc, VGG_eval_loss, VGG_test_acc, VGG_test_loss, VGG_training_time = train_eval_test(\n",
    "    VGG_model, \n",
    "    train_data_loader, \n",
    "    val_data_loader, \n",
    "    test_data_loader,\n",
    "    no_epochs=no_epochs\n",
    ")\n",
    "\n",
    "del VGG_model"
   ]
  },
  {
   "cell_type": "code",
   "execution_count": 10,
   "id": "3a71828f",
   "metadata": {},
   "outputs": [
    {
     "name": "stdout",
     "output_type": "stream",
     "text": [
      "RESNET18\n",
      "Epoch 1 Train Loss: 4.735284, Eval Accuracy: 5.39%, Eval Loss: 4.371781, Time Taken: 6.81s\n",
      "Epoch 2 Train Loss: 4.214572, Eval Accuracy: 15.69%, Eval Loss: 3.971563, Time Taken: 6.65s\n",
      "Test Accuracy: 16.3265306122449, Test Loss: 3.9754426138741628\n"
     ]
    }
   ],
   "source": [
    "ResNet_18_model = create_resnet_model(18)\n",
    "print(\"RESNET18\")\n",
    "ResNet18_train_acc, ResNet18_train_loss, ResNet18_eval_acc, ResNet18_eval_loss, ResNet18_test_acc, ResNet18_test_loss, ResNet18_training_time = train_eval_test(\n",
    "    ResNet_18_model, \n",
    "    train_data_loader, \n",
    "    val_data_loader, \n",
    "    test_data_loader,\n",
    "    no_epochs=no_epochs\n",
    ")\n",
    "\n",
    "del ResNet_18_model"
   ]
  },
  {
   "cell_type": "code",
   "execution_count": 11,
   "id": "2bf73b3d",
   "metadata": {},
   "outputs": [
    {
     "name": "stdout",
     "output_type": "stream",
     "text": [
      "RESNET34\n",
      "Epoch 1 Train Loss: 4.771635, Eval Accuracy: 5.19%, Eval Loss: 4.412210, Time Taken: 7.10s\n",
      "Epoch 2 Train Loss: 4.240053, Eval Accuracy: 15.00%, Eval Loss: 3.994116, Time Taken: 7.08s\n",
      "Test Accuracy: 14.811862244897958, Test Loss: 3.9990712963804906\n"
     ]
    }
   ],
   "source": [
    "ResNet_34_model = create_resnet_model(34)\n",
    "print(\"RESNET34\")\n",
    "ResNet34_train_acc, ResNet34_train_loss, ResNet34_eval_acc, ResNet34_eval_loss, ResNet34_test_acc, ResNet34_test_loss, ResNet34_training_time = train_eval_test(\n",
    "    ResNet_34_model, \n",
    "    train_data_loader, \n",
    "    val_data_loader, \n",
    "    test_data_loader,\n",
    "    no_epochs=no_epochs\n",
    ")\n",
    "\n",
    "del ResNet_34_model"
   ]
  },
  {
   "cell_type": "code",
   "execution_count": 12,
   "id": "3e1cd5a9",
   "metadata": {},
   "outputs": [
    {
     "name": "stdout",
     "output_type": "stream",
     "text": [
      "RESNET50\n",
      "Epoch 1 Train Loss: 4.558015, Eval Accuracy: 22.57%, Eval Loss: 4.300018, Time Taken: 9.03s\n",
      "Epoch 2 Train Loss: 4.156015, Eval Accuracy: 48.13%, Eval Loss: 3.964513, Time Taken: 8.48s\n",
      "Test Accuracy: 47.35650511420503, Test Loss: 3.988689033352599\n"
     ]
    }
   ],
   "source": [
    "ResNet_50_model = create_resnet_model(50)\n",
    "print(\"RESNET50\")\n",
    "ResNet50_train_acc, ResNet50_train_loss, ResNet50_eval_acc, ResNet50_eval_loss, ResNet50_test_acc, ResNet50_test_loss, ResNet50_training_time = train_eval_test(\n",
    "    ResNet_50_model, \n",
    "    train_data_loader, \n",
    "    val_data_loader, \n",
    "    test_data_loader,\n",
    "    no_epochs=no_epochs\n",
    ")\n",
    "\n",
    "del ResNet_50_model"
   ]
  },
  {
   "cell_type": "code",
   "execution_count": 13,
   "id": "683605f7",
   "metadata": {},
   "outputs": [
    {
     "name": "stdout",
     "output_type": "stream",
     "text": [
      "RESNET101\n",
      "Epoch 1 Train Loss: 4.579921, Eval Accuracy: 10.77%, Eval Loss: 4.261345, Time Taken: 10.66s\n",
      "Epoch 2 Train Loss: 4.049811, Eval Accuracy: 40.91%, Eval Loss: 3.845064, Time Taken: 10.73s\n",
      "Test Accuracy: 40.9311224611438, Test Loss: 3.846996443612235\n"
     ]
    }
   ],
   "source": [
    "ResNet_101_model = create_resnet_model(101)\n",
    "print(\"RESNET101\")\n",
    "ResNet101_train_acc, ResNet101_train_loss, ResNet101_eval_acc, ResNet101_eval_loss, ResNet101_test_acc, ResNet101_test_loss, ResNet101_training_time = train_eval_test(\n",
    "    ResNet_101_model, \n",
    "    train_data_loader, \n",
    "    val_data_loader, \n",
    "    test_data_loader,\n",
    "    no_epochs=no_epochs\n",
    ")\n",
    "\n",
    "del ResNet_101_model"
   ]
  },
  {
   "cell_type": "code",
   "execution_count": 14,
   "id": "e58bada3",
   "metadata": {},
   "outputs": [
    {
     "name": "stdout",
     "output_type": "stream",
     "text": [
      "EFFICIENTNET_S\n",
      "Epoch 1 Train Loss: 4.572298, Eval Accuracy: 11.20%, Eval Loss: 4.354647, Time Taken: 8.97s\n",
      "Epoch 2 Train Loss: 4.189157, Eval Accuracy: 31.56%, Eval Loss: 4.032428, Time Taken: 8.69s\n",
      "Test Accuracy: 29.065688775510207, Test Loss: 4.062666206943746\n"
     ]
    }
   ],
   "source": [
    "efficientnet_s_model = create_efficientnet_model('s')\n",
    "\n",
    "print(\"EFFICIENTNET_S\")\n",
    "\n",
    "ENs_train_acc, ENs_train_loss, ENs_eval_acc, ENs_eval_loss, ENs_test_acc, ENs_test_loss, ENs_training_time = train_eval_test(\n",
    "    efficientnet_s_model, \n",
    "    train_data_loader, \n",
    "    val_data_loader, \n",
    "    test_data_loader,\n",
    "    no_epochs=no_epochs\n",
    ")\n",
    "\n",
    "del efficientnet_s_model"
   ]
  },
  {
   "cell_type": "code",
   "execution_count": 15,
   "id": "36e18ef8",
   "metadata": {},
   "outputs": [
    {
     "name": "stderr",
     "output_type": "stream",
     "text": [
      "Downloading: \"https://download.pytorch.org/models/efficientnet_v2_m-dc08266a.pth\" to C:\\Users\\Elliot/.cache\\torch\\hub\\checkpoints\\efficientnet_v2_m-dc08266a.pth\n",
      "100.0%\n"
     ]
    },
    {
     "name": "stdout",
     "output_type": "stream",
     "text": [
      "EFFICIENTNET_M\n",
      "Epoch 1 Train Loss: 4.604946, Eval Accuracy: 7.46%, Eval Loss: 4.421230, Time Taken: 11.20s\n",
      "Epoch 2 Train Loss: 4.301491, Eval Accuracy: 23.72%, Eval Loss: 4.183034, Time Taken: 11.57s\n",
      "Test Accuracy: 19.74808674077598, Test Loss: 4.210172166629714\n"
     ]
    }
   ],
   "source": [
    "efficientnet_m_model = create_efficientnet_model('m')\n",
    "\n",
    "print(\"EFFICIENTNET_M\")\n",
    "\n",
    "ENm_train_acc, ENm_train_loss, ENm_eval_acc, ENm_eval_loss, ENm_test_acc, ENm_test_loss, ENm_training_time = train_eval_test(\n",
    "    efficientnet_m_model, \n",
    "    train_data_loader, \n",
    "    val_data_loader, \n",
    "    test_data_loader,\n",
    "    no_epochs=no_epochs\n",
    ")\n",
    "\n",
    "del efficientnet_m_model"
   ]
  },
  {
   "cell_type": "code",
   "execution_count": 16,
   "id": "0ab28c32",
   "metadata": {},
   "outputs": [
    {
     "name": "stderr",
     "output_type": "stream",
     "text": [
      "Downloading: \"https://download.pytorch.org/models/efficientnet_v2_l-59c71312.pth\" to C:\\Users\\Elliot/.cache\\torch\\hub\\checkpoints\\efficientnet_v2_l-59c71312.pth\n",
      "100.0%\n"
     ]
    },
    {
     "name": "stdout",
     "output_type": "stream",
     "text": [
      "EFFICIENTNET_L\n",
      "Epoch 1 Train Loss: 4.651152, Eval Accuracy: 13.53%, Eval Loss: 4.089356, Time Taken: 17.13s\n",
      "Epoch 2 Train Loss: 3.832237, Eval Accuracy: 42.35%, Eval Loss: 3.399445, Time Taken: 16.21s\n",
      "Test Accuracy: 36.23405612853109, Test Loss: 3.5105240442314924\n"
     ]
    }
   ],
   "source": [
    "efficientnet_l_model = create_efficientnet_model('l')\n",
    "\n",
    "print(\"EFFICIENTNET_L\")\n",
    "\n",
    "ENl_train_acc, ENl_train_loss, ENl_eval_acc, ENl_eval_loss, ENl_test_acc, ENl_test_loss, ENl_training_time = train_eval_test(\n",
    "    efficientnet_l_model, \n",
    "    train_data_loader, \n",
    "    val_data_loader, \n",
    "    test_data_loader,\n",
    "    no_epochs=no_epochs\n",
    ")\n",
    "\n",
    "del efficientnet_l_model"
   ]
  },
  {
   "cell_type": "code",
   "execution_count": 17,
   "metadata": {},
   "outputs": [],
   "source": [
    "eval_acc = [VGG_eval_acc, ResNet18_eval_acc, ResNet34_eval_acc, ResNet50_eval_acc, ResNet101_eval_acc, ENs_eval_acc, ENm_eval_acc, ENl_eval_acc]\n",
    "eval_acc = [np.mean(x) for x in eval_acc]\n",
    "test_acc = [VGG_test_acc, ResNet18_test_acc, ResNet34_test_acc, ResNet50_test_acc, ResNet101_test_acc, ENs_test_acc, ENm_test_acc, ENl_test_acc]\n",
    "time_taken = [VGG_training_time, ResNet18_training_time, ResNet34_training_time, ResNet50_training_time, ResNet101_training_time, ENs_training_time, ENm_training_time, ENl_training_time]\n",
    "time_taken = [np.mean(x) for x in time_taken]\n",
    "names = ['VGG16', 'ResNet18', 'ResNet34', 'ResNet50', 'ResNet101', 'EfficientNet_S', 'EfficientNet_M', 'EfficientNet_L']\n",
    "colours = ['tab:red', 'tab:blue', 'tab:green', 'tab:orange', 'tab:purple', 'tab:brown', 'tab:pink', 'tab:gray']"
   ]
  },
  {
   "cell_type": "code",
   "execution_count": 28,
   "metadata": {},
   "outputs": [
    {
     "data": {
      "image/png": "[encoded data removed]",
      "text/plain": [
       "<Figure size 1200x1600 with 3 Axes>"
      ]
     },
     "metadata": {},
     "output_type": "display_data"
    }
   ],
   "source": [
    "plt.figure(figsize=(12, 16))\n",
    "plt.subplot(311)\n",
    "plt.title('Validation Accuracies')\n",
    "plt.scatter(names, eval_acc, color=colours)\n",
    "plt.subplot(312)\n",
    "plt.title('Test Accuracies')\n",
    "plt.scatter(names, test_acc, color=colours)\n",
    "plt.subplot(313)\n",
    "plt.title('Training Times')\n",
    "plt.scatter(names, time_taken, color=colours)\n",
    "plt.show()"
   ]
  },
  {
   "cell_type": "code",
   "execution_count": 20,
   "metadata": {},
   "outputs": [
    {
     "data": {
      "text/html": [
       "<div>\n",
       "<style scoped>\n",
       "    .dataframe tbody tr th:only-of-type {\n",
       "        vertical-align: middle;\n",
       "    }\n",
       "\n",
       "    .dataframe tbody tr th {\n",
       "        vertical-align: top;\n",
       "    }\n",
       "\n",
       "    .dataframe thead th {\n",
       "        text-align: right;\n",
       "    }\n",
       "</style>\n",
       "<table border=\"1\" class=\"dataframe\">\n",
       "  <thead>\n",
       "    <tr style=\"text-align: right;\">\n",
       "      <th></th>\n",
       "      <th>Validation Accuracy</th>\n",
       "      <th>Test Accuracy</th>\n",
       "      <th>Training Time</th>\n",
       "    </tr>\n",
       "  </thead>\n",
       "  <tbody>\n",
       "    <tr>\n",
       "      <th>VGG16</th>\n",
       "      <td>4.296034</td>\n",
       "      <td>11.367985</td>\n",
       "      <td>11.978766</td>\n",
       "    </tr>\n",
       "    <tr>\n",
       "      <th>ResNet18</th>\n",
       "      <td>4.171672</td>\n",
       "      <td>16.326531</td>\n",
       "      <td>6.726591</td>\n",
       "    </tr>\n",
       "    <tr>\n",
       "      <th>ResNet34</th>\n",
       "      <td>4.203163</td>\n",
       "      <td>14.811862</td>\n",
       "      <td>7.088038</td>\n",
       "    </tr>\n",
       "    <tr>\n",
       "      <th>ResNet50</th>\n",
       "      <td>4.132265</td>\n",
       "      <td>47.356505</td>\n",
       "      <td>8.755071</td>\n",
       "    </tr>\n",
       "    <tr>\n",
       "      <th>ResNet101</th>\n",
       "      <td>4.053204</td>\n",
       "      <td>40.931122</td>\n",
       "      <td>10.695755</td>\n",
       "    </tr>\n",
       "    <tr>\n",
       "      <th>EfficientNet_S</th>\n",
       "      <td>4.193537</td>\n",
       "      <td>29.065689</td>\n",
       "      <td>8.828862</td>\n",
       "    </tr>\n",
       "    <tr>\n",
       "      <th>EfficientNet_M</th>\n",
       "      <td>4.302132</td>\n",
       "      <td>19.748087</td>\n",
       "      <td>11.388348</td>\n",
       "    </tr>\n",
       "    <tr>\n",
       "      <th>EfficientNet_L</th>\n",
       "      <td>3.744400</td>\n",
       "      <td>36.234056</td>\n",
       "      <td>16.668178</td>\n",
       "    </tr>\n",
       "  </tbody>\n",
       "</table>\n",
       "</div>"
      ],
      "text/plain": [
       "                Validation Accuracy  Test Accuracy  Training Time\n",
       "VGG16                      4.296034      11.367985      11.978766\n",
       "ResNet18                   4.171672      16.326531       6.726591\n",
       "ResNet34                   4.203163      14.811862       7.088038\n",
       "ResNet50                   4.132265      47.356505       8.755071\n",
       "ResNet101                  4.053204      40.931122      10.695755\n",
       "EfficientNet_S             4.193537      29.065689       8.828862\n",
       "EfficientNet_M             4.302132      19.748087      11.388348\n",
       "EfficientNet_L             3.744400      36.234056      16.668178"
      ]
     },
     "execution_count": 20,
     "metadata": {},
     "output_type": "execute_result"
    }
   ],
   "source": [
    "df = pd.DataFrame(\n",
    "    np.column_stack([\n",
    "        eval_acc,\n",
    "        test_acc,\n",
    "        time_taken\n",
    "    ]),\n",
    "    columns=['Validation Accuracy', 'Test Accuracy', 'Training Time'],\n",
    "    index=names\n",
    ")\n",
    "df"
   ]
  }
 ],
 "metadata": {
  "kernelspec": {
   "display_name": "Python 3 (ipykernel)",
   "language": "python",
   "name": "python3"
  },
  "language_info": {
   "codemirror_mode": {
    "name": "ipython",
    "version": 3
   },
   "file_extension": ".py",
   "mimetype": "text/x-python",
   "name": "python",
   "nbconvert_exporter": "python",
   "pygments_lexer": "ipython3",
   "version": "3.11.6"
  }
 },
 "nbformat": 4,
 "nbformat_minor": 5
}
