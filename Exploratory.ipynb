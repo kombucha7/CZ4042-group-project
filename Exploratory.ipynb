{
 "cells": [
  {
   "cell_type": "code",
   "execution_count": 1,
   "id": "initial_id",
   "metadata": {},
   "outputs": [],
   "source": [
    "import torch\n",
    "import torch.nn as nn\n",
    "from torchvision import models\n",
    "from torchvision import datasets\n",
    "from torchvision import transforms\n",
    "from torchvision.transforms import v2\n",
    "from torchmetrics.classification import MulticlassAccuracy\n",
    "import numpy as np\n",
    "import pandas as pd\n",
    "import matplotlib.pyplot as plt\n",
    "import datetime"
   ]
  },
  {
   "cell_type": "code",
   "execution_count": 2,
   "id": "608d8d71",
   "metadata": {},
   "outputs": [
    {
     "name": "stdout",
     "output_type": "stream",
     "text": [
      "cuda:0\n"
     ]
    }
   ],
   "source": [
    "no_epochs = 50\n",
    "learning_rate = 0.001\n",
    "batch_size = 128\n",
    "\n",
    "device = torch.device(\"cuda:0\" if torch.cuda.is_available() else \"cpu\")\n",
    "print(device)\n",
    "\n",
    "acc_function = MulticlassAccuracy(num_classes=102, average='micro').to(device)\n",
    "loss_fn = nn.CrossEntropyLoss().to(device)\n",
    "\n",
    "SEED = 42\n",
    "np.random.seed(SEED)\n",
    "gen = torch.manual_seed(SEED)"
   ]
  },
  {
   "cell_type": "code",
   "execution_count": 3,
   "id": "34c123e1",
   "metadata": {},
   "outputs": [
    {
     "name": "stderr",
     "output_type": "stream",
     "text": [
      "c:\\Builds\\CZ4042-group-project\\.venv\\Lib\\site-packages\\torchvision\\transforms\\v2\\_deprecated.py:43: UserWarning: The transform `ToTensor()` is deprecated and will be removed in a future release. Instead, please use `v2.Compose([v2.ToImage(), v2.ToDtype(torch.float32, scale=True)])`.\n",
      "  warnings.warn(\n"
     ]
    }
   ],
   "source": [
    "# Data Augmentation\n",
    "train_transforms = v2.Compose([\n",
    "    v2.RandomRotation(30),\n",
    "    v2.RandomResizedCrop(224),\n",
    "    v2.RandomHorizontalFlip(),\n",
    "    v2.ToImage(), \n",
    "    v2.ToDtype(torch.float32, scale=True),\n",
    "    v2.Normalize([0.485, 0.456, 0.406], [0.229, 0.224, 0.225])\n",
    "])\n",
    "\n",
    "default_transforms = v2.Compose([\n",
    "    models.VGG16_BN_Weights.IMAGENET1K_V1.transforms()\n",
    "])\n",
    "\n",
    "flowers_train = datasets.Flowers102(root='./data', split='train', download=True, transform=train_transforms)\n",
    "flowers_test = datasets.Flowers102(root='./data', split='test', download=True, transform=default_transforms)\n",
    "flowers_val = datasets.Flowers102(root='./data', split='val', download=True, transform=default_transforms)\n"
   ]
  },
  {
   "cell_type": "code",
   "execution_count": 4,
   "id": "1a6eda9f",
   "metadata": {},
   "outputs": [],
   "source": [
    "def get_data_loader(batch_size):\n",
    "    train_loader = torch.utils.data.DataLoader(flowers_train, batch_size=batch_size, shuffle=True, generator=gen)\n",
    "    test_loader = torch.utils.data.DataLoader(flowers_test, batch_size=batch_size, shuffle=True, generator=gen)\n",
    "    val_loader = torch.utils.data.DataLoader(flowers_val, batch_size=batch_size, shuffle=True, generator=gen)\n",
    "    return train_loader, test_loader, val_loader"
   ]
  },
  {
   "cell_type": "code",
   "execution_count": 5,
   "id": "bdcdb8bd",
   "metadata": {},
   "outputs": [],
   "source": [
    "# Early stopping based on accuracy\n",
    "class AccuracyEarlyStopper:\n",
    "    def __init__(self, patience=3, min_delta=0.5):\n",
    "        self.patience = patience\n",
    "        self.min_delta = min_delta\n",
    "        self.counter = 0\n",
    "        self.max_validation_accuracy = 0\n",
    "\n",
    "    def early_stop(self, validation_accuracy):\n",
    "        if validation_accuracy > (self.max_validation_accuracy + self.min_delta):\n",
    "            self.max_validation_accuracy = validation_accuracy\n",
    "            self.counter = 0\n",
    "        else:\n",
    "            self.counter += 1\n",
    "            if self.counter >= self.patience:\n",
    "                return True\n",
    "        return False"
   ]
  },
  {
   "cell_type": "code",
   "execution_count": 6,
   "id": "b6ba0403",
   "metadata": {},
   "outputs": [],
   "source": [
    "def train(model, optimizer, dataloader, loss_fn=loss_fn):\n",
    "    running_loss_value = 0\n",
    "    for images, labels in dataloader:\n",
    "        optimizer.zero_grad()\n",
    "        images = images.to(device)\n",
    "        labels = labels.to(device)\n",
    "        outputs = model(images)\n",
    "        loss = loss_fn(outputs, labels)\n",
    "        running_loss_value += loss.item()\n",
    "        loss.backward()\n",
    "        optimizer.step()\n",
    "    return running_loss_value / len(dataloader)\n",
    "\n",
    "def test_eval(model, dataloader, loss_fn=loss_fn):\n",
    "    running_loss_value = 0\n",
    "    running_acc_value = 0\n",
    "    with torch.no_grad():\n",
    "        for images, labels in dataloader:\n",
    "            images = images.to(device)\n",
    "            labels = labels.to(device)\n",
    "            outputs = model(images)\n",
    "            loss = loss_fn(outputs, labels)\n",
    "            acc = acc_function(outputs, labels)\n",
    "            running_loss_value += loss.item()\n",
    "            running_acc_value += acc.item()\n",
    "    running_acc_value /= len(dataloader)\n",
    "    running_loss_value /= len(dataloader)\n",
    "    return running_acc_value*100, running_loss_value\n",
    "\n",
    "def train_eval_test(model, train_dataloader, val_dataloader, test_dataloader, no_epochs=10):\n",
    "    es = AccuracyEarlyStopper()\n",
    "    optimizer = torch.optim.Adam(model.parameters(), lr=learning_rate)\n",
    "    train_loss_arr, train_acc_arr, eval_loss_arr, eval_acc_arr, training_time = [], [], [], [], []\n",
    "    for i in range(no_epochs):\n",
    "        start = datetime.datetime.now()\n",
    "        train_loss = train(model, optimizer, train_dataloader)\n",
    "        end = datetime.datetime.now()\n",
    "        time_taken = (end - start).total_seconds()\n",
    "        eval_acc, eval_loss = test_eval(model, val_dataloader)\n",
    "        print(f'Epoch {i+1} Train Loss: {train_loss:>8f}, Eval Accuracy: {eval_acc:>0.2f}%, Eval Loss: {eval_loss:>8f}, Time Taken: {time_taken:>0.2f}s')\n",
    "        train_loss_arr.append(train_loss)\n",
    "        eval_loss_arr.append(eval_loss)\n",
    "        eval_acc_arr.append(eval_acc)\n",
    "        training_time.append(time_taken)\n",
    "        if es.early_stop(eval_acc):\n",
    "            print('Early stopping activated')\n",
    "            break\n",
    "        if i == 1:\n",
    "            break\n",
    "    test_acc, test_loss = test_eval(model, test_dataloader)\n",
    "    print(f\"Test Accuracy: {test_acc}, Test Loss: {test_loss}\")\n",
    "    return train_loss_arr, train_acc_arr, eval_loss_arr, eval_acc_arr, test_acc, test_loss, training_time"
   ]
  },
  {
   "cell_type": "code",
   "execution_count": 7,
   "id": "5ccac6cb",
   "metadata": {},
   "outputs": [],
   "source": [
    "def create_VGG_model():\n",
    "    model = models.vgg16_bn(weights=models.VGG16_BN_Weights.DEFAULT)\n",
    "    new_classifier_head = nn.Sequential(\n",
    "        nn.Linear(25088, 4096),\n",
    "        nn.ReLU(inplace=True),\n",
    "        nn.Dropout(0.5),\n",
    "        nn.Linear(4096, 4096),\n",
    "        nn.ReLU(inplace=True),\n",
    "        nn.Dropout(0.5),\n",
    "        nn.Linear(4096, 102)\n",
    "    )\n",
    "    \n",
    "    # for param in model.parameters():\n",
    "    #     param.requires_grad = False\n",
    "        \n",
    "    model.classifier = new_classifier_head\n",
    "\n",
    "    return model.to(device=device)\n",
    "\n",
    "def create_resnet_model(size=50):\n",
    "    match size:\n",
    "        case 18:\n",
    "            model = models.resnet18(weights=models.ResNet18_Weights.DEFAULT)\n",
    "            new_fc = nn.Linear(512,102)\n",
    "        case 34:\n",
    "            model = models.resnet34(weights=models.ResNet34_Weights.DEFAULT)\n",
    "            new_fc = nn.Linear(512,102)\n",
    "        case 50:\n",
    "            model = models.resnet50(weights=models.ResNet50_Weights.DEFAULT)\n",
    "            new_fc = nn.Linear(2048, 102)\n",
    "        case 101:\n",
    "            model = models.resnet101(weights=models.ResNet101_Weights.DEFAULT)\n",
    "            new_fc = nn.Linear(2048,102)\n",
    "        case _:\n",
    "            print(\"Invalid Size, defaulting to 50\")\n",
    "            model = models.resnet50(weights=models.ResNet50_Weights.DEFAULT)\n",
    "            new_fc = nn.Linear(2048, 102)\n",
    "    \n",
    "    # for param in model.parameters():\n",
    "    #     param.requires_grad = False\n",
    "        \n",
    "    model.fc = new_fc\n",
    "    \n",
    "    return model.to(device)\n",
    "\n",
    "def create_efficientnet_model(size):\n",
    "    match size:\n",
    "        case 's':\n",
    "            model = models.efficientnet_v2_s(weights=models.EfficientNet_V2_S_Weights.DEFAULT)\n",
    "        case 'm':\n",
    "            model = models.efficientnet_v2_m(weights=models.EfficientNet_V2_M_Weights.DEFAULT)\n",
    "        case 'l':\n",
    "            model = models.efficientnet_v2_l(weights=models.EfficientNet_V2_L_Weights.DEFAULT)\n",
    "        case _:\n",
    "            model = models.efficientnet_v2_m(weights=models.EfficientNet_V2_M_Weights.DEFAULT)\n",
    "\n",
    "\n",
    "\n",
    "    # for param in model.parameters():\n",
    "    #     param.requires_grad = False\n",
    "        \n",
    "    new_classifier = nn.Sequential(\n",
    "        nn.Dropout(0.2),\n",
    "        nn.Linear(1280, 102)\n",
    "    )\n",
    "    \n",
    "    model.classifier = new_classifier\n",
    "    \n",
    "    return model.to(device)"
   ]
  },
  {
   "cell_type": "code",
   "execution_count": 8,
   "id": "e5945153",
   "metadata": {},
   "outputs": [],
   "source": [
    "train_data_loader, test_data_loader, val_data_loader = get_data_loader(batch_size)"
   ]
  },
  {
   "cell_type": "code",
   "execution_count": 9,
   "id": "79913434",
   "metadata": {},
   "outputs": [
    {
     "name": "stdout",
     "output_type": "stream",
     "text": [
      "VGG16\n"
     ]
    }
   ],
   "source": [
    "VGG_model = create_VGG_model()\n",
    "print(\"VGG16\")\n",
    "VGG_train_acc, VGG_train_loss, VGG_eval_acc, VGG_eval_loss, VGG_test_acc, VGG_test_loss, VGG_training_time = train_eval_test(\n",
    "    VGG_model, \n",
    "    train_data_loader, \n",
    "    val_data_loader, \n",
    "    test_data_loader,\n",
    "    no_epochs=no_epochs\n",
    ")\n",
    "\n",
    "del VGG_model"
   ]
  },
  {
   "cell_type": "code",
   "execution_count": null,
   "id": "3a71828f",
   "metadata": {},
   "outputs": [
    {
     "name": "stderr",
     "output_type": "stream",
     "text": [
      "Downloading: \"https://download.pytorch.org/models/resnet18-f37072fd.pth\" to C:\\Users\\Elliot/.cache\\torch\\hub\\checkpoints\\resnet18-f37072fd.pth\n",
      "100.0%\n"
     ]
    },
    {
     "name": "stdout",
     "output_type": "stream",
     "text": [
      "RESNET\n",
      "Epoch 1 Train Loss: 4.756111, Eval Accuracy: 5.48%, Eval Loss: 4.367081\n",
      "Epoch 2 Train Loss: 4.244765, Eval Accuracy: 19.80%, Eval Loss: 3.967921\n",
      "Epoch 3 Train Loss: 3.828414, Eval Accuracy: 37.64%, Eval Loss: 3.559131\n",
      "Epoch 4 Train Loss: 3.423972, Eval Accuracy: 50.29%, Eval Loss: 3.200543\n",
      "Epoch 5 Train Loss: 3.071233, Eval Accuracy: 62.56%, Eval Loss: 2.874337\n",
      "Epoch 6 Train Loss: 2.756047, Eval Accuracy: 65.19%, Eval Loss: 2.592432\n",
      "Epoch 7 Train Loss: 2.460320, Eval Accuracy: 70.11%, Eval Loss: 2.345962\n",
      "Epoch 8 Train Loss: 2.228341, Eval Accuracy: 72.85%, Eval Loss: 2.133216\n",
      "Epoch 9 Train Loss: 2.022457, Eval Accuracy: 74.89%, Eval Loss: 1.950958\n",
      "Epoch 10 Train Loss: 1.834905, Eval Accuracy: 77.56%, Eval Loss: 1.787383\n",
      "Epoch 11 Train Loss: 1.680075, Eval Accuracy: 79.12%, Eval Loss: 1.657058\n",
      "Epoch 12 Train Loss: 1.570435, Eval Accuracy: 79.90%, Eval Loss: 1.551310\n",
      "Epoch 13 Train Loss: 1.437939, Eval Accuracy: 79.71%, Eval Loss: 1.448478\n",
      "Epoch 14 Train Loss: 1.379880, Eval Accuracy: 80.80%, Eval Loss: 1.374735\n",
      "Epoch 15 Train Loss: 1.249829, Eval Accuracy: 80.98%, Eval Loss: 1.309130\n",
      "Epoch 16 Train Loss: 1.163211, Eval Accuracy: 82.08%, Eval Loss: 1.238120\n",
      "Epoch 17 Train Loss: 1.113190, Eval Accuracy: 81.97%, Eval Loss: 1.178514\n",
      "Epoch 18 Train Loss: 1.054247, Eval Accuracy: 83.63%, Eval Loss: 1.127364\n",
      "Epoch 19 Train Loss: 0.972847, Eval Accuracy: 83.34%, Eval Loss: 1.095293\n",
      "Epoch 20 Train Loss: 0.969623, Eval Accuracy: 83.23%, Eval Loss: 1.048858\n",
      "Epoch 21 Train Loss: 0.883102, Eval Accuracy: 82.65%, Eval Loss: 1.014743\n",
      "Early stopping activated\n",
      "Test Accuracy: 81.27232145289986, Test Loss: 1.1092647095115817\n"
     ]
    }
   ],
   "source": [
    "ResNet_18_model = create_resnet_model(18)\n",
    "print(\"RESNET18\")\n",
    "ResNet18_train_acc, ResNet18_train_loss, ResNet18_eval_acc, ResNet18_eval_loss, ResNet18_test_acc, ResNet18_test_loss, ResNet18_training_time = train_eval_test(\n",
    "    ResNet_18_model, \n",
    "    train_data_loader, \n",
    "    val_data_loader, \n",
    "    test_data_loader,\n",
    "    no_epochs=no_epochs\n",
    ")\n",
    "\n",
    "del ResNet_18_model"
   ]
  },
  {
   "cell_type": "code",
   "execution_count": null,
   "id": "2bf73b3d",
   "metadata": {},
   "outputs": [
    {
     "name": "stderr",
     "output_type": "stream",
     "text": [
      "Downloading: \"https://download.pytorch.org/models/resnet34-b627a593.pth\" to C:\\Users\\Elliot/.cache\\torch\\hub\\checkpoints\\resnet34-b627a593.pth\n",
      "100.0%\n"
     ]
    },
    {
     "name": "stdout",
     "output_type": "stream",
     "text": [
      "RESNET\n",
      "Epoch 1 Train Loss: 4.781655, Eval Accuracy: 7.05%, Eval Loss: 4.343193\n",
      "Epoch 2 Train Loss: 4.230287, Eval Accuracy: 18.33%, Eval Loss: 3.936898\n",
      "Epoch 3 Train Loss: 3.761862, Eval Accuracy: 37.76%, Eval Loss: 3.514868\n",
      "Epoch 4 Train Loss: 3.368629, Eval Accuracy: 49.81%, Eval Loss: 3.146169\n",
      "Epoch 5 Train Loss: 3.077458, Eval Accuracy: 61.66%, Eval Loss: 2.815254\n",
      "Epoch 6 Train Loss: 2.717633, Eval Accuracy: 66.46%, Eval Loss: 2.534502\n",
      "Epoch 7 Train Loss: 2.405202, Eval Accuracy: 70.28%, Eval Loss: 2.278708\n",
      "Epoch 8 Train Loss: 2.178649, Eval Accuracy: 72.36%, Eval Loss: 2.063467\n",
      "Epoch 9 Train Loss: 1.972587, Eval Accuracy: 74.90%, Eval Loss: 1.880205\n",
      "Epoch 10 Train Loss: 1.793364, Eval Accuracy: 77.15%, Eval Loss: 1.727702\n",
      "Epoch 11 Train Loss: 1.655780, Eval Accuracy: 78.24%, Eval Loss: 1.601576\n",
      "Epoch 12 Train Loss: 1.496205, Eval Accuracy: 80.09%, Eval Loss: 1.481993\n",
      "Epoch 13 Train Loss: 1.376546, Eval Accuracy: 81.15%, Eval Loss: 1.382909\n",
      "Epoch 14 Train Loss: 1.314042, Eval Accuracy: 81.56%, Eval Loss: 1.294392\n",
      "Epoch 15 Train Loss: 1.203205, Eval Accuracy: 82.36%, Eval Loss: 1.232282\n",
      "Epoch 16 Train Loss: 1.129963, Eval Accuracy: 82.23%, Eval Loss: 1.163182\n",
      "Epoch 17 Train Loss: 1.056621, Eval Accuracy: 83.85%, Eval Loss: 1.113842\n",
      "Epoch 18 Train Loss: 0.994868, Eval Accuracy: 82.15%, Eval Loss: 1.077003\n",
      "Epoch 19 Train Loss: 0.961418, Eval Accuracy: 83.83%, Eval Loss: 1.023182\n",
      "Epoch 20 Train Loss: 0.927590, Eval Accuracy: 84.41%, Eval Loss: 0.984835\n",
      "Epoch 21 Train Loss: 0.896591, Eval Accuracy: 83.62%, Eval Loss: 0.964959\n",
      "Epoch 22 Train Loss: 0.792015, Eval Accuracy: 83.33%, Eval Loss: 0.932877\n",
      "Epoch 23 Train Loss: 0.770992, Eval Accuracy: 84.69%, Eval Loss: 0.899371\n",
      "Early stopping activated\n",
      "Test Accuracy: 81.40625004865684, Test Loss: 1.0592818466984495\n"
     ]
    }
   ],
   "source": [
    "ResNet_34_model = create_resnet_model(34)\n",
    "print(\"RESNET34\")\n",
    "ResNet34_train_acc, ResNet34_train_loss, ResNet34_eval_acc, ResNet34_eval_loss, ResNet34_test_acc, ResNet34_test_loss, ResNet34_training_time = train_eval_test(\n",
    "    ResNet_34_model, \n",
    "    train_data_loader, \n",
    "    val_data_loader, \n",
    "    test_data_loader,\n",
    "    no_epochs=no_epochs\n",
    ")\n",
    "\n",
    "del ResNet_34_model"
   ]
  },
  {
   "cell_type": "code",
   "execution_count": null,
   "id": "3e1cd5a9",
   "metadata": {},
   "outputs": [
    {
     "name": "stdout",
     "output_type": "stream",
     "text": [
      "RESNET\n",
      "Epoch 1 Train Loss: 4.559777, Eval Accuracy: 17.35%, Eval Loss: 4.293632\n",
      "Epoch 2 Train Loss: 4.145323, Eval Accuracy: 48.33%, Eval Loss: 3.954787\n",
      "Epoch 3 Train Loss: 3.792295, Eval Accuracy: 66.16%, Eval Loss: 3.654354\n",
      "Epoch 4 Train Loss: 3.475689, Eval Accuracy: 73.27%, Eval Loss: 3.368963\n",
      "Epoch 5 Train Loss: 3.190637, Eval Accuracy: 74.84%, Eval Loss: 3.093798\n",
      "Epoch 6 Train Loss: 2.930863, Eval Accuracy: 77.07%, Eval Loss: 2.880001\n",
      "Epoch 7 Train Loss: 2.691964, Eval Accuracy: 78.94%, Eval Loss: 2.667114\n",
      "Epoch 8 Train Loss: 2.451674, Eval Accuracy: 80.39%, Eval Loss: 2.450377\n",
      "Epoch 9 Train Loss: 2.237405, Eval Accuracy: 81.09%, Eval Loss: 2.292343\n",
      "Epoch 10 Train Loss: 2.121731, Eval Accuracy: 81.88%, Eval Loss: 2.131230\n",
      "Epoch 11 Train Loss: 1.932281, Eval Accuracy: 83.04%, Eval Loss: 1.996986\n",
      "Epoch 12 Train Loss: 1.754039, Eval Accuracy: 82.55%, Eval Loss: 1.879992\n",
      "Epoch 13 Train Loss: 1.628438, Eval Accuracy: 82.83%, Eval Loss: 1.772269\n",
      "Epoch 14 Train Loss: 1.529859, Eval Accuracy: 82.83%, Eval Loss: 1.672989\n",
      "Early stopping activated\n",
      "Test Accuracy: 80.80994900392027, Test Loss: 1.8254318796858495\n"
     ]
    }
   ],
   "source": [
    "ResNet_50_model = create_resnet_model(50)\n",
    "print(\"RESNET50\")\n",
    "ResNet50_train_acc, ResNet50_train_loss, ResNet50_eval_acc, ResNet50_eval_loss, ResNet50_test_acc, ResNet50_test_loss, ResNet50_training_time = train_eval_test(\n",
    "    ResNet_50_model, \n",
    "    train_data_loader, \n",
    "    val_data_loader, \n",
    "    test_data_loader,\n",
    "    no_epochs=no_epochs\n",
    ")\n",
    "\n",
    "del ResNet_50_model"
   ]
  },
  {
   "cell_type": "code",
   "execution_count": null,
   "id": "683605f7",
   "metadata": {},
   "outputs": [
    {
     "name": "stderr",
     "output_type": "stream",
     "text": [
      "Downloading: \"https://download.pytorch.org/models/resnet101-cd907fc2.pth\" to C:\\Users\\Elliot/.cache\\torch\\hub\\checkpoints\\resnet101-cd907fc2.pth\n",
      "100.0%\n"
     ]
    },
    {
     "name": "stdout",
     "output_type": "stream",
     "text": [
      "RESNET\n",
      "Epoch 1 Train Loss: 4.566488, Eval Accuracy: 16.48%, Eval Loss: 4.235667\n",
      "Epoch 2 Train Loss: 4.037764, Eval Accuracy: 42.57%, Eval Loss: 3.827048\n",
      "Epoch 3 Train Loss: 3.618826, Eval Accuracy: 60.98%, Eval Loss: 3.446374\n",
      "Epoch 4 Train Loss: 3.229564, Eval Accuracy: 68.04%, Eval Loss: 3.109408\n",
      "Epoch 5 Train Loss: 2.898887, Eval Accuracy: 71.36%, Eval Loss: 2.801347\n",
      "Epoch 6 Train Loss: 2.593585, Eval Accuracy: 74.33%, Eval Loss: 2.543025\n",
      "Epoch 7 Train Loss: 2.310902, Eval Accuracy: 76.85%, Eval Loss: 2.312585\n",
      "Epoch 8 Train Loss: 2.047343, Eval Accuracy: 78.74%, Eval Loss: 2.119800\n",
      "Epoch 9 Train Loss: 1.853017, Eval Accuracy: 78.74%, Eval Loss: 1.953272\n",
      "Epoch 10 Train Loss: 1.715472, Eval Accuracy: 78.81%, Eval Loss: 1.820706\n",
      "Epoch 11 Train Loss: 1.499737, Eval Accuracy: 79.90%, Eval Loss: 1.688021\n",
      "Epoch 12 Train Loss: 1.389339, Eval Accuracy: 80.68%, Eval Loss: 1.589905\n",
      "Epoch 13 Train Loss: 1.302078, Eval Accuracy: 80.59%, Eval Loss: 1.503033\n",
      "Epoch 14 Train Loss: 1.181725, Eval Accuracy: 81.66%, Eval Loss: 1.431741\n",
      "Epoch 15 Train Loss: 1.088071, Eval Accuracy: 82.06%, Eval Loss: 1.351883\n",
      "Epoch 16 Train Loss: 1.048413, Eval Accuracy: 81.96%, Eval Loss: 1.284142\n",
      "Epoch 17 Train Loss: 0.961371, Eval Accuracy: 81.67%, Eval Loss: 1.236875\n",
      "Early stopping activated\n",
      "Test Accuracy: 77.82206632653062, Test Loss: 1.4030692771989473\n"
     ]
    }
   ],
   "source": [
    "ResNet_101_model = create_resnet_model(101)\n",
    "print(\"RESNET101\")\n",
    "ResNet101_train_acc, ResNet101_train_loss, ResNet101_eval_acc, ResNet101_eval_loss, ResNet101_test_acc, ResNet101_test_loss, ResNet101_training_time = train_eval_test(\n",
    "    ResNet_101_model, \n",
    "    train_data_loader, \n",
    "    val_data_loader, \n",
    "    test_data_loader,\n",
    "    no_epochs=no_epochs\n",
    ")\n",
    "\n",
    "del ResNet_101_model"
   ]
  },
  {
   "cell_type": "code",
   "execution_count": null,
   "id": "e58bada3",
   "metadata": {},
   "outputs": [
    {
     "name": "stdout",
     "output_type": "stream",
     "text": [
      "EFFICIENTNET\n",
      "Epoch 1 Train Loss: 4.574721, Eval Accuracy: 12.42%, Eval Loss: 4.353661\n",
      "Epoch 2 Train Loss: 4.185564, Eval Accuracy: 33.15%, Eval Loss: 4.031021\n",
      "Epoch 3 Train Loss: 3.860585, Eval Accuracy: 46.29%, Eval Loss: 3.739001\n",
      "Epoch 4 Train Loss: 3.542766, Eval Accuracy: 53.71%, Eval Loss: 3.490047\n",
      "Epoch 5 Train Loss: 3.278103, Eval Accuracy: 59.00%, Eval Loss: 3.235458\n",
      "Epoch 6 Train Loss: 3.031440, Eval Accuracy: 62.44%, Eval Loss: 3.006856\n",
      "Epoch 7 Train Loss: 2.782584, Eval Accuracy: 66.27%, Eval Loss: 2.804595\n",
      "Epoch 8 Train Loss: 2.568160, Eval Accuracy: 68.70%, Eval Loss: 2.628160\n",
      "Epoch 9 Train Loss: 2.379220, Eval Accuracy: 68.03%, Eval Loss: 2.468820\n",
      "Epoch 10 Train Loss: 2.258689, Eval Accuracy: 69.42%, Eval Loss: 2.334562\n",
      "Epoch 11 Train Loss: 2.072847, Eval Accuracy: 71.96%, Eval Loss: 2.208270\n",
      "Epoch 12 Train Loss: 1.962521, Eval Accuracy: 72.17%, Eval Loss: 2.104919\n",
      "Epoch 13 Train Loss: 1.806893, Eval Accuracy: 72.62%, Eval Loss: 2.006330\n",
      "Epoch 14 Train Loss: 1.714660, Eval Accuracy: 72.95%, Eval Loss: 1.911277\n",
      "Epoch 15 Train Loss: 1.620385, Eval Accuracy: 72.24%, Eval Loss: 1.833588\n",
      "Epoch 16 Train Loss: 1.562858, Eval Accuracy: 75.09%, Eval Loss: 1.732639\n",
      "Epoch 17 Train Loss: 1.446059, Eval Accuracy: 74.81%, Eval Loss: 1.681686\n",
      "Epoch 18 Train Loss: 1.369496, Eval Accuracy: 76.19%, Eval Loss: 1.634344\n",
      "Epoch 19 Train Loss: 1.307922, Eval Accuracy: 74.30%, Eval Loss: 1.606892\n",
      "Epoch 20 Train Loss: 1.324882, Eval Accuracy: 76.28%, Eval Loss: 1.523474\n",
      "Epoch 21 Train Loss: 1.238484, Eval Accuracy: 74.92%, Eval Loss: 1.514025\n",
      "Early stopping activated\n",
      "Test Accuracy: 70.66007657926909, Test Loss: 1.6521702420954802\n"
     ]
    }
   ],
   "source": [
    "efficientnet_s_model = create_efficientnet_model('s')\n",
    "\n",
    "print(\"EFFICIENTNET_S\")\n",
    "\n",
    "ENs_train_acc, ENs_train_loss, ENs_eval_acc, ENs_eval_loss, ENs_test_acc, ENs_test_loss, ENs_training_time = train_eval_test(\n",
    "    efficientnet_s_model, \n",
    "    train_data_loader, \n",
    "    val_data_loader, \n",
    "    test_data_loader,\n",
    "    no_epochs=no_epochs\n",
    ")\n",
    "\n",
    "del efficientnet_s_model"
   ]
  },
  {
   "cell_type": "code",
   "execution_count": null,
   "id": "36e18ef8",
   "metadata": {},
   "outputs": [
    {
     "name": "stdout",
     "output_type": "stream",
     "text": [
      "EFFICIENTNET\n",
      "Epoch 1 Train Loss: 4.611644, Eval Accuracy: 7.65%, Eval Loss: 4.419560\n",
      "Epoch 2 Train Loss: 4.293189, Eval Accuracy: 23.92%, Eval Loss: 4.170458\n",
      "Epoch 3 Train Loss: 4.053287, Eval Accuracy: 31.60%, Eval Loss: 3.978391\n",
      "Epoch 4 Train Loss: 3.802157, Eval Accuracy: 44.62%, Eval Loss: 3.749610\n",
      "Epoch 5 Train Loss: 3.574698, Eval Accuracy: 48.72%, Eval Loss: 3.571569\n",
      "Epoch 6 Train Loss: 3.369551, Eval Accuracy: 47.59%, Eval Loss: 3.400626\n",
      "Epoch 7 Train Loss: 3.186699, Eval Accuracy: 49.02%, Eval Loss: 3.251072\n",
      "Epoch 8 Train Loss: 2.999997, Eval Accuracy: 54.34%, Eval Loss: 3.101571\n",
      "Epoch 9 Train Loss: 2.876097, Eval Accuracy: 55.20%, Eval Loss: 2.959369\n",
      "Epoch 10 Train Loss: 2.668106, Eval Accuracy: 55.37%, Eval Loss: 2.853476\n",
      "Epoch 11 Train Loss: 2.588547, Eval Accuracy: 58.12%, Eval Loss: 2.717815\n",
      "Epoch 12 Train Loss: 2.405632, Eval Accuracy: 57.84%, Eval Loss: 2.642203\n",
      "Epoch 13 Train Loss: 2.324905, Eval Accuracy: 59.61%, Eval Loss: 2.546059\n",
      "Epoch 14 Train Loss: 2.254833, Eval Accuracy: 58.64%, Eval Loss: 2.435055\n",
      "Epoch 15 Train Loss: 2.169088, Eval Accuracy: 60.69%, Eval Loss: 2.383972\n",
      "Epoch 16 Train Loss: 2.049722, Eval Accuracy: 60.38%, Eval Loss: 2.306924\n",
      "Epoch 17 Train Loss: 1.939108, Eval Accuracy: 61.49%, Eval Loss: 2.217648\n",
      "Epoch 18 Train Loss: 1.858052, Eval Accuracy: 60.98%, Eval Loss: 2.202865\n",
      "Epoch 19 Train Loss: 1.779726, Eval Accuracy: 65.00%, Eval Loss: 2.086014\n",
      "Epoch 20 Train Loss: 1.849490, Eval Accuracy: 61.85%, Eval Loss: 2.103194\n",
      "Epoch 21 Train Loss: 1.691082, Eval Accuracy: 64.68%, Eval Loss: 1.989034\n",
      "Epoch 22 Train Loss: 1.692181, Eval Accuracy: 64.50%, Eval Loss: 1.958882\n",
      "Early stopping activated\n",
      "Test Accuracy: 58.73086735302088, Test Loss: 2.1363930799523176\n"
     ]
    }
   ],
   "source": [
    "efficientnet_m_model = create_efficientnet_model('m')\n",
    "\n",
    "print(\"EFFICIENTNET_M\")\n",
    "\n",
    "ENm_train_acc, ENm_train_loss, ENm_eval_acc, ENm_eval_loss, ENm_test_acc, ENm_test_loss, ENm_training_time = train_eval_test(\n",
    "    efficientnet_m_model, \n",
    "    train_data_loader, \n",
    "    val_data_loader, \n",
    "    test_data_loader,\n",
    "    no_epochs=no_epochs\n",
    ")\n",
    "\n",
    "del efficientnet_m_model"
   ]
  },
  {
   "cell_type": "code",
   "execution_count": null,
   "id": "0ab28c32",
   "metadata": {},
   "outputs": [
    {
     "name": "stdout",
     "output_type": "stream",
     "text": [
      "EFFICIENTNET\n",
      "Epoch 1 Train Loss: 4.590027, Eval Accuracy: 15.59%, Eval Loss: 4.096957\n",
      "Epoch 2 Train Loss: 3.842896, Eval Accuracy: 39.08%, Eval Loss: 3.421711\n",
      "Epoch 3 Train Loss: 3.141942, Eval Accuracy: 63.46%, Eval Loss: 2.797723\n",
      "Epoch 4 Train Loss: 2.599770, Eval Accuracy: 70.60%, Eval Loss: 2.338389\n",
      "Epoch 5 Train Loss: 2.141581, Eval Accuracy: 76.46%, Eval Loss: 1.960250\n",
      "Epoch 6 Train Loss: 1.845971, Eval Accuracy: 79.10%, Eval Loss: 1.681222\n",
      "Epoch 7 Train Loss: 1.584890, Eval Accuracy: 83.33%, Eval Loss: 1.475755\n",
      "Epoch 8 Train Loss: 1.366856, Eval Accuracy: 83.62%, Eval Loss: 1.310721\n",
      "Epoch 9 Train Loss: 1.229933, Eval Accuracy: 84.31%, Eval Loss: 1.166734\n",
      "Epoch 10 Train Loss: 1.117605, Eval Accuracy: 85.98%, Eval Loss: 1.079130\n",
      "Epoch 11 Train Loss: 0.930863, Eval Accuracy: 86.49%, Eval Loss: 0.985865\n",
      "Epoch 12 Train Loss: 0.943139, Eval Accuracy: 87.25%, Eval Loss: 0.923959\n",
      "Epoch 13 Train Loss: 0.872363, Eval Accuracy: 89.13%, Eval Loss: 0.862135\n",
      "Epoch 14 Train Loss: 0.771146, Eval Accuracy: 89.11%, Eval Loss: 0.824118\n",
      "Epoch 15 Train Loss: 0.738638, Eval Accuracy: 88.34%, Eval Loss: 0.791598\n",
      "Epoch 16 Train Loss: 0.695821, Eval Accuracy: 88.33%, Eval Loss: 0.746908\n",
      "Early stopping activated\n",
      "Test Accuracy: 85.92155612244898, Test Loss: 0.8923323203106316\n"
     ]
    }
   ],
   "source": [
    "efficientnet_l_model = create_efficientnet_model('l')\n",
    "\n",
    "print(\"EFFICIENTNET_L\")\n",
    "\n",
    "ENl_train_acc, ENl_train_loss, ENl_eval_acc, ENl_eval_loss, ENl_test_acc, ENl_test_loss, ENl_training_time = train_eval_test(\n",
    "    efficientnet_l_model, \n",
    "    train_data_loader, \n",
    "    val_data_loader, \n",
    "    test_data_loader,\n",
    "    no_epochs=no_epochs\n",
    ")\n",
    "\n",
    "del efficientnet_l_model"
   ]
  },
  {
   "cell_type": "code",
   "execution_count": null,
   "metadata": {},
   "outputs": [],
   "source": [
    "eval_acc = [VGG_eval_acc, ResNet18_eval_acc, ResNet34_eval_acc, ResNet50_eval_acc, ResNet101_eval_acc, ENs_eval_acc, ENm_eval_acc, ENl_eval_acc]\n",
    "eval_acc = [np.mean(x) for x in eval_acc]\n",
    "test_acc = [VGG_test_acc, ResNet18_test_acc, ResNet34_test_acc, ResNet50_test_acc, ResNet101_test_acc, ENs_test_acc, ENm_test_acc, ENl_test_acc]\n",
    "time_taken = [VGG_training_time, ResNet18_training_time, ResNet34_training_time, ResNet50_training_time, ResNet101_training_time, ENs_training_time, ENm_training_time, ENl_training_time]\n",
    "time_taken = [np.mean(x) for x in time_taken]\n",
    "names = ['VGG16', 'ResNet18', 'ResNet34', 'ResNet50', 'ResNet101', 'EfficientNet_S', 'EfficientNet_M', 'EfficientNet_L']\n",
    "colours = ['tab:red', 'tab:blue', 'tab:green', 'tab:orange', 'tab:purple', 'tab:brown', 'tab:pink', 'tab:gray']"
   ]
  },
  {
   "cell_type": "code",
   "execution_count": null,
   "metadata": {},
   "outputs": [],
   "source": [
    "plt.figure(figsize=(18, 6))\n",
    "plt.subplot(131)\n",
    "plt.title('Validation Accuracies')\n",
    "plt.scatter(names, eval_acc, color=colours)\n",
    "plt.subplot(132)\n",
    "plt.title('Test Accuracies')\n",
    "plt.scatter(names, test_acc, color=colours)\n",
    "plt.subplot(133)\n",
    "plt.title('Training Times')\n",
    "plt.scatter(names, time_taken, color=colours)\n",
    "plt.show()"
   ]
  }
 ],
 "metadata": {
  "kernelspec": {
   "display_name": "Python 3 (ipykernel)",
   "language": "python",
   "name": "python3"
  },
  "language_info": {
   "codemirror_mode": {
    "name": "ipython",
    "version": 3
   },
   "file_extension": ".py",
   "mimetype": "text/x-python",
   "name": "python",
   "nbconvert_exporter": "python",
   "pygments_lexer": "ipython3",
   "version": "3.11.6"
  }
 },
 "nbformat": 4,
 "nbformat_minor": 5
}
