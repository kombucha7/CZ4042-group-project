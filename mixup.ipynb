{
 "cells": [
  {
   "cell_type": "code",
   "execution_count": 1,
   "metadata": {},
   "outputs": [],
   "source": [
    "import torch\n",
    "import torch.nn as nn\n",
    "import torchvision\n",
    "from torchvision import models\n",
    "from torchvision import datasets\n",
    "from torchvision import transforms\n",
    "from torchvision.transforms import v2\n",
    "from torchmetrics.classification import MulticlassAccuracy\n",
    "import numpy as np\n",
    "from torch.utils.data import default_collate\n",
    "import datetime\n",
    "import matplotlib.pyplot as plt\n",
    "import pandas as pd"
   ]
  },
  {
   "cell_type": "code",
   "execution_count": 2,
   "metadata": {},
   "outputs": [
    {
     "name": "stdout",
     "output_type": "stream",
     "text": [
      "cuda:0\n"
     ]
    }
   ],
   "source": [
    "no_epochs = 50\n",
    "learning_rate = 0.0001\n",
    "batch_size = 128\n",
    "num_classes = 102\n",
    "\n",
    "device = torch.device(\"cuda:0\" if torch.cuda.is_available() else \"cpu\")\n",
    "print(device)\n",
    "\n",
    "SEED = 42\n",
    "np.random.seed(SEED)\n",
    "gen = torch.manual_seed(SEED)\n",
    "\n",
    "acc_function = MulticlassAccuracy(num_classes=num_classes, average='micro').to(device)\n",
    "loss_fn = nn.CrossEntropyLoss().to(device)\n"
   ]
  },
  {
   "cell_type": "code",
   "execution_count": 3,
   "metadata": {},
   "outputs": [],
   "source": [
    "# Data Augmentation\n",
    "train_transforms = v2.Compose([\n",
    "    v2.RandomRotation(30),\n",
    "    v2.RandomResizedCrop(224),\n",
    "    v2.RandomHorizontalFlip(),\n",
    "    v2.ToImage(), \n",
    "    v2.ToDtype(torch.float32, scale=True),\n",
    "    v2.Normalize([0.485, 0.456, 0.406], [0.229, 0.224, 0.225])\n",
    "])\n",
    "\n",
    "# Assuming you want to keep the default transformations for testing/validation:\n",
    "default_transforms = v2.Compose([\n",
    "    models.VGG16_BN_Weights.IMAGENET1K_V1.transforms()\n",
    "])\n",
    "\n",
    "flowers_train = datasets.Flowers102(root='./data', split='train', download=True, transform=train_transforms)\n",
    "flowers_test = datasets.Flowers102(root='./data', split='test', download=True, transform=default_transforms)\n",
    "flowers_val = datasets.Flowers102(root='./data', split='val', download=True, transform=default_transforms)\n"
   ]
  },
  {
   "cell_type": "code",
   "execution_count": 4,
   "metadata": {},
   "outputs": [],
   "source": [
    "cutmix = v2.CutMix(num_classes=num_classes)\n",
    "mixup = v2.MixUp(num_classes=num_classes)\n",
    "cutmix_or_mixup = v2.RandomChoice([cutmix, mixup])\n",
    "\n",
    "def collate_fn(batch):\n",
    "    return cutmix_or_mixup(*default_collate(batch))"
   ]
  },
  {
   "cell_type": "code",
   "execution_count": 5,
   "metadata": {},
   "outputs": [],
   "source": [
    "def get_data_loader(batch_size):\n",
    "    train_loader_MIXED = torch.utils.data.DataLoader(flowers_train, batch_size=batch_size, shuffle=True, collate_fn=collate_fn, generator=gen)\n",
    "    train_loader = torch.utils.data.DataLoader(flowers_train, batch_size=batch_size, shuffle=True, generator=gen)\n",
    "    test_loader = torch.utils.data.DataLoader(flowers_test, batch_size=batch_size, shuffle=True, generator=gen)\n",
    "    val_loader = torch.utils.data.DataLoader(flowers_val, batch_size=batch_size, shuffle=True, generator=gen)\n",
    "    return train_loader, test_loader, val_loader, train_loader_MIXED"
   ]
  },
  {
   "cell_type": "code",
   "execution_count": 6,
   "metadata": {},
   "outputs": [],
   "source": [
    "# Early stopping based on accuracy\n",
    "class AccuracyEarlyStopper:\n",
    "    def __init__(self, patience=5, min_delta=0.01):\n",
    "        self.patience = patience\n",
    "        self.min_delta = min_delta\n",
    "        self.counter = 0\n",
    "        self.max_validation_accuracy = 0\n",
    "\n",
    "    def early_stop(self, validation_accuracy):\n",
    "        if validation_accuracy > (self.max_validation_accuracy + self.min_delta):\n",
    "            self.max_validation_accuracy = validation_accuracy\n",
    "            self.counter = 0\n",
    "        else:\n",
    "            self.counter += 1\n",
    "            if self.counter >= self.patience:\n",
    "                return True\n",
    "        return False"
   ]
  },
  {
   "cell_type": "code",
   "execution_count": 7,
   "metadata": {},
   "outputs": [],
   "source": [
    "def train(model, optimizer, dataloader, loss_fn=loss_fn):\n",
    "    running_loss_value = 0\n",
    "    for images, labels in dataloader:\n",
    "        optimizer.zero_grad()\n",
    "        images = images.to(device)\n",
    "        labels = labels.to(device)\n",
    "        outputs = model(images)\n",
    "        loss = loss_fn(outputs, labels)\n",
    "        running_loss_value += loss.item()\n",
    "        loss.backward()\n",
    "        optimizer.step()\n",
    "    return running_loss_value / len(dataloader)\n",
    "\n",
    "def test_eval(model, dataloader, loss_fn=loss_fn):\n",
    "    running_loss_value = 0\n",
    "    running_acc_value = 0\n",
    "    with torch.no_grad():\n",
    "        for images, labels in dataloader:\n",
    "            images = images.to(device)\n",
    "            labels = labels.to(device)\n",
    "            outputs = model(images)\n",
    "            loss = loss_fn(outputs, labels)\n",
    "            acc = acc_function(outputs, labels)\n",
    "            running_loss_value += loss.item()\n",
    "            running_acc_value += acc.item()\n",
    "    running_acc_value /= len(dataloader)\n",
    "    running_loss_value /= len(dataloader)\n",
    "    return running_acc_value*100, running_loss_value\n",
    "\n",
    "def train_eval_test(model, train_dataloader, val_dataloader, test_dataloader, no_epochs=10):\n",
    "    es = AccuracyEarlyStopper()\n",
    "    optimizer = torch.optim.Adam(model.parameters(), lr=learning_rate)\n",
    "    train_loss_arr, train_acc_arr, eval_loss_arr, eval_acc_arr = [], [], [], []\n",
    "    for i in range(no_epochs):\n",
    "        start = datetime.datetime.now()\n",
    "        train_loss = train(model, optimizer, train_dataloader)\n",
    "        end = datetime.datetime.now()\n",
    "        time_taken = (end-start).total_seconds()\n",
    "        eval_acc, eval_loss = test_eval(model, val_dataloader)\n",
    "        print(f'Epoch {i+1} Train Loss: {train_loss:>8f}, Eval Accuracy: {eval_acc:>0.2f}%, Eval Loss: {eval_loss:>8f}, Time Taken: {time_taken:>4f}s')\n",
    "        train_loss_arr.append(train_loss)\n",
    "        eval_loss_arr.append(eval_loss)\n",
    "        eval_acc_arr.append(eval_acc)\n",
    "        if es.early_stop(eval_acc):\n",
    "            print('Early stopping activated')\n",
    "            break\n",
    "    test_acc, test_loss = test_eval(model, test_dataloader)\n",
    "    print(f\"Test Accuracy: {test_acc}, Test Loss: {test_loss}\")\n",
    "    return train_loss_arr, train_acc_arr, eval_loss_arr, eval_acc_arr, test_acc, test_loss, time_taken"
   ]
  },
  {
   "cell_type": "code",
   "execution_count": 8,
   "metadata": {},
   "outputs": [],
   "source": [
    "train_data_loader, test_data_loader, val_data_loader, train_data_loader_mixed = get_data_loader(batch_size)"
   ]
  },
  {
   "cell_type": "code",
   "execution_count": 9,
   "metadata": {},
   "outputs": [],
   "source": [
    "def create_model():\n",
    "    model = models.resnet34(weights=models.ResNet34_Weights.DEFAULT)\n",
    "    model.fc = nn.Linear(512, 102)\n",
    "    model = model.to(device=device)\n",
    "    return model\n",
    "\n",
    "model = create_model()"
   ]
  },
  {
   "cell_type": "code",
   "execution_count": 10,
   "metadata": {},
   "outputs": [],
   "source": [
    "model_runs = 10"
   ]
  },
  {
   "cell_type": "code",
   "execution_count": 11,
   "metadata": {},
   "outputs": [
    {
     "name": "stdout",
     "output_type": "stream",
     "text": [
      "Epoch 1 Train Loss: 4.515797, Eval Accuracy: 20.88%, Eval Loss: 3.916007, Time Taken: 7.804727s\n",
      "Epoch 2 Train Loss: 3.542258, Eval Accuracy: 48.72%, Eval Loss: 3.140982, Time Taken: 7.041564s\n",
      "Epoch 3 Train Loss: 2.818875, Eval Accuracy: 64.61%, Eval Loss: 2.536935, Time Taken: 7.122076s\n",
      "Test Accuracy: 60.37946428571429, Test Loss: 2.693140307251288\n",
      "Epoch 1 Train Loss: 4.702054, Eval Accuracy: 9.71%, Eval Loss: 4.178813, Time Taken: 7.674221s\n",
      "Epoch 2 Train Loss: 4.298524, Eval Accuracy: 36.10%, Eval Loss: 3.558689, Time Taken: 7.732733s\n",
      "Epoch 3 Train Loss: 3.556702, Eval Accuracy: 55.31%, Eval Loss: 2.953752, Time Taken: 7.504154s\n",
      "Test Accuracy: 51.18303572644993, Test Loss: 3.0887420664028244\n",
      "Epoch 1 Train Loss: 4.562676, Eval Accuracy: 16.37%, Eval Loss: 3.978856, Time Taken: 7.042799s\n",
      "Epoch 2 Train Loss: 3.542497, Eval Accuracy: 45.88%, Eval Loss: 3.176631, Time Taken: 7.090418s\n",
      "Epoch 3 Train Loss: 2.838393, Eval Accuracy: 64.79%, Eval Loss: 2.577404, Time Taken: 7.116128s\n",
      "Test Accuracy: 60.296556171105834, Test Loss: 2.7022837862676505\n",
      "Epoch 1 Train Loss: 4.700852, Eval Accuracy: 9.61%, Eval Loss: 4.199667, Time Taken: 7.555797s\n",
      "Epoch 2 Train Loss: 4.204153, Eval Accuracy: 35.19%, Eval Loss: 3.521103, Time Taken: 7.362112s\n",
      "Epoch 3 Train Loss: 3.886319, Eval Accuracy: 53.02%, Eval Loss: 2.975750, Time Taken: 7.697944s\n",
      "Test Accuracy: 49.91709188539154, Test Loss: 3.096035047453277\n"
     ]
    }
   ],
   "source": [
    "normal_eval_acc_arr, normal_test_acc_arr, normal_time_arr = [], [], []\n",
    "mixed_eval_acc_arr, mixed_test_acc_arr, mixed_time_arr = [], [], []\n",
    "\n",
    "for i in range(model_runs):\n",
    "    normal_model = create_model()\n",
    "    train_loss_arr, train_acc_arr, eval_loss_arr, eval_acc_arr, test_acc, test_loss, time_taken = train_eval_test(\n",
    "        normal_model, \n",
    "        train_data_loader, \n",
    "        val_data_loader, \n",
    "        test_data_loader, \n",
    "        no_epochs=no_epochs\n",
    "    )\n",
    "    \n",
    "    normal_eval_acc_arr.append(np.mean(eval_acc_arr))\n",
    "    normal_test_acc_arr.append(test_acc)\n",
    "    normal_time_arr.append(np.mean(time_taken))\n",
    "    \n",
    "    mixed_model = create_model()\n",
    "    train_loss_arr_mixed, train_acc_arr_mixed, eval_loss_arr_mixed, eval_acc_arr_mixed, test_acc_mixed, test_loss_mixed, time_taken_mixed = train_eval_test(\n",
    "        mixed_model, \n",
    "        train_data_loader_mixed, \n",
    "        val_data_loader, \n",
    "        test_data_loader, \n",
    "        no_epochs=no_epochs\n",
    "    )\n",
    "    \n",
    "    mixed_eval_acc_arr.append(np.mean(eval_acc_arr_mixed))\n",
    "    mixed_test_acc_arr.append(test_acc_mixed)\n",
    "    mixed_time_arr.append(np.mean(time_taken_mixed))"
   ]
  },
  {
   "cell_type": "code",
   "execution_count": 18,
   "metadata": {},
   "outputs": [],
   "source": [
    "eval_acc = [np.mean(normal_eval_acc_arr), np.mean(mixed_eval_acc_arr)]\n",
    "time_taken = [np.mean(normal_time_arr), np.mean(mixed_time_arr)]\n",
    "test_acc = [np.mean(normal_test_acc_arr), np.mean(mixed_test_acc_arr)]\n",
    "names = ['normal', 'modified']\n",
    "colours = ['tab:red', 'tab:blue']"
   ]
  },
  {
   "cell_type": "code",
   "execution_count": 19,
   "metadata": {},
   "outputs": [
    {
     "data": {
      "image/png": "[encoded data removed]",
      "text/plain": [
       "<Figure size 1800x600 with 3 Axes>"
      ]
     },
     "metadata": {},
     "output_type": "display_data"
    }
   ],
   "source": [
    "plt.figure(figsize=(18, 6))\n",
    "plt.subplot(131)\n",
    "plt.title('Validation Accuracies')\n",
    "plt.scatter(names, eval_acc, color=colours)\n",
    "plt.subplot(132)\n",
    "plt.title('Test Accuracies')\n",
    "plt.scatter(names, test_acc, color=colours)\n",
    "plt.subplot(133)\n",
    "plt.title('Training Times')\n",
    "plt.scatter(names, time_taken, color=colours)\n",
    "plt.show()"
   ]
  }
 ],
 "metadata": {
  "kernelspec": {
   "display_name": ".venv",
   "language": "python",
   "name": "python3"
  },
  "language_info": {
   "codemirror_mode": {
    "name": "ipython",
    "version": 3
   },
   "file_extension": ".py",
   "mimetype": "text/x-python",
   "name": "python",
   "nbconvert_exporter": "python",
   "pygments_lexer": "ipython3",
   "version": "3.11.6"
  }
 },
 "nbformat": 4,
 "nbformat_minor": 2
}
